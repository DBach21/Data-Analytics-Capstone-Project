{
 "cells": [
  {
   "cell_type": "markdown",
   "metadata": {},
   "source": [
    "# Shunique - Company Background\n",
    "Shunique is a hot new online women's shoe company that is known for their unique shoe combinations.  Founded by auto tire amgnate Joseph Flatbush and his daugthers Jenna and Jamaica.  He believed that just like car tires, women's shoes should be unique and stylish. However, a bold choice to release a \"silver vegan leather sandal\" that had very few sales has left the company to turn towards their data in search of the next big shoe hit.  The company doesn't know much about their data and have not been keeping up with their monthly, quarterly, and yearly performance.    You were hired as a data analyst to help them answer key questions.  You were given all the shoe sales transactions from Aug 2018 to Aug 2020.  They do know a few statistics:  (1) They have generated \\$166,936,995 in total sales since opening (2) The top 3 cities for number of shoes sold are Washington, DC, Houston, Tx, and El Paso, Tx (See Figure below).  They have also provided you with a codebook describing all the columns and their potential values.\n",
    "<img src=\"num_shoes_sold_per_city.png\">"
   ]
  },
  {
   "cell_type": "code",
   "execution_count": 1,
   "metadata": {},
   "outputs": [],
   "source": [
    "from scipy import stats\n",
    "\n",
    "import pandas as pd\n",
    "import matplotlib as mpl  \n",
    "import matplotlib.pyplot as plt  \n",
    "import seaborn as sns\n",
    "\n",
    "pd.set_option('display.float_format', lambda x: '%.2f' % x)\n",
    "\n",
    "%matplotlib inline\n",
    "%config InlineBackend.figure_format = 'retina'\n",
    "\n",
    "Shunique = pd.read_csv('transactions.csv')"
   ]
  },
  {
   "cell_type": "code",
   "execution_count": 2,
   "metadata": {},
   "outputs": [
    {
     "data": {
      "text/plain": [
       "Index(['first_name', 'last_name', 'email', 'city', 'address', 'state',\n",
       "       'transactionDate', 'transactionID', 'time', 'quantity', 'name', 'color',\n",
       "       'materials', 'prices', 'feature', 'category', 'cost', 'Date'],\n",
       "      dtype='object')"
      ]
     },
     "execution_count": 2,
     "metadata": {},
     "output_type": "execute_result"
    }
   ],
   "source": [
    "Shunique.columns"
   ]
  },
  {
   "cell_type": "code",
   "execution_count": 3,
   "metadata": {},
   "outputs": [
    {
     "data": {
      "text/plain": [
       "first_name          object\n",
       "last_name           object\n",
       "email               object\n",
       "city                object\n",
       "address             object\n",
       "state               object\n",
       "transactionDate     object\n",
       "transactionID       object\n",
       "time                object\n",
       "quantity             int64\n",
       "name                object\n",
       "color               object\n",
       "materials           object\n",
       "prices             float64\n",
       "feature             object\n",
       "category            object\n",
       "cost               float64\n",
       "Date                object\n",
       "dtype: object"
      ]
     },
     "execution_count": 3,
     "metadata": {},
     "output_type": "execute_result"
    }
   ],
   "source": [
    "Shunique.dtypes"
   ]
  },
  {
   "cell_type": "code",
   "execution_count": 4,
   "metadata": {},
   "outputs": [
    {
     "data": {
      "text/plain": [
       "(1105257, 18)"
      ]
     },
     "execution_count": 4,
     "metadata": {},
     "output_type": "execute_result"
    }
   ],
   "source": [
    "Shunique.shape"
   ]
  },
  {
   "cell_type": "code",
   "execution_count": 5,
   "metadata": {},
   "outputs": [
    {
     "data": {
      "text/html": [
       "<div>\n",
       "<style scoped>\n",
       "    .dataframe tbody tr th:only-of-type {\n",
       "        vertical-align: middle;\n",
       "    }\n",
       "\n",
       "    .dataframe tbody tr th {\n",
       "        vertical-align: top;\n",
       "    }\n",
       "\n",
       "    .dataframe thead th {\n",
       "        text-align: right;\n",
       "    }\n",
       "</style>\n",
       "<table border=\"1\" class=\"dataframe\">\n",
       "  <thead>\n",
       "    <tr style=\"text-align: right;\">\n",
       "      <th></th>\n",
       "      <th>first_name</th>\n",
       "      <th>last_name</th>\n",
       "      <th>email</th>\n",
       "      <th>city</th>\n",
       "      <th>address</th>\n",
       "      <th>state</th>\n",
       "      <th>transactionDate</th>\n",
       "      <th>transactionID</th>\n",
       "      <th>time</th>\n",
       "      <th>quantity</th>\n",
       "      <th>name</th>\n",
       "      <th>color</th>\n",
       "      <th>materials</th>\n",
       "      <th>prices</th>\n",
       "      <th>feature</th>\n",
       "      <th>category</th>\n",
       "      <th>cost</th>\n",
       "      <th>Date</th>\n",
       "    </tr>\n",
       "  </thead>\n",
       "  <tbody>\n",
       "    <tr>\n",
       "      <th>0</th>\n",
       "      <td>Ximenes</td>\n",
       "      <td>Oxshott</td>\n",
       "      <td>xoxshott0@biglobe.ne.jp</td>\n",
       "      <td>Idaho Falls</td>\n",
       "      <td>5 Pearson Plaza</td>\n",
       "      <td>Idaho</td>\n",
       "      <td>04/04/2019</td>\n",
       "      <td>6e3e9c86-2251-44bc-8249-8045e5406cca</td>\n",
       "      <td>7:07 PM</td>\n",
       "      <td>2</td>\n",
       "      <td>'waffle Spa Slide' Slipper (women)</td>\n",
       "      <td>green</td>\n",
       "      <td>leather</td>\n",
       "      <td>59.95</td>\n",
       "      <td>recycled material</td>\n",
       "      <td>wedges</td>\n",
       "      <td>119.90</td>\n",
       "      <td>2019-04-04</td>\n",
       "    </tr>\n",
       "    <tr>\n",
       "      <th>1</th>\n",
       "      <td>Urson</td>\n",
       "      <td>Wilcox</td>\n",
       "      <td>uwilcox2w@weather.com</td>\n",
       "      <td>Lima</td>\n",
       "      <td>8 Muir Road</td>\n",
       "      <td>Ohio</td>\n",
       "      <td>02/03/2019</td>\n",
       "      <td>aaacafb6-112c-41ad-baf1-44b54b17170b</td>\n",
       "      <td>3:21 AM</td>\n",
       "      <td>1</td>\n",
       "      <td>'waffle Spa Slide' Slipper (women)</td>\n",
       "      <td>green</td>\n",
       "      <td>leather</td>\n",
       "      <td>59.95</td>\n",
       "      <td>recycled material</td>\n",
       "      <td>wedges</td>\n",
       "      <td>59.95</td>\n",
       "      <td>2019-02-03</td>\n",
       "    </tr>\n",
       "    <tr>\n",
       "      <th>2</th>\n",
       "      <td>Svend</td>\n",
       "      <td>De la Feld</td>\n",
       "      <td>sdelafeld58@last.fm</td>\n",
       "      <td>Wilmington</td>\n",
       "      <td>0 5th Pass</td>\n",
       "      <td>Delaware</td>\n",
       "      <td>07/21/2019</td>\n",
       "      <td>3727a9ae-9914-421c-9adc-eb4f1dd010f4</td>\n",
       "      <td>5:04 AM</td>\n",
       "      <td>2</td>\n",
       "      <td>'waffle Spa Slide' Slipper (women)</td>\n",
       "      <td>green</td>\n",
       "      <td>leather</td>\n",
       "      <td>59.95</td>\n",
       "      <td>recycled material</td>\n",
       "      <td>wedges</td>\n",
       "      <td>119.90</td>\n",
       "      <td>2019-07-21</td>\n",
       "    </tr>\n",
       "    <tr>\n",
       "      <th>3</th>\n",
       "      <td>Laura</td>\n",
       "      <td>Potts</td>\n",
       "      <td>bmartin@scott-carr.info</td>\n",
       "      <td>Rodriguezmouth</td>\n",
       "      <td>03918 Rachel Meadows Apt. 214</td>\n",
       "      <td>Wisconsin</td>\n",
       "      <td>01/26/2019</td>\n",
       "      <td>649691c5-a77f-4ae2-bee1-4894a03b2dd3</td>\n",
       "      <td>06:26 PM</td>\n",
       "      <td>1</td>\n",
       "      <td>'waffle Spa Slide' Slipper (women)</td>\n",
       "      <td>green</td>\n",
       "      <td>leather</td>\n",
       "      <td>59.95</td>\n",
       "      <td>recycled material</td>\n",
       "      <td>wedges</td>\n",
       "      <td>59.95</td>\n",
       "      <td>2019-01-26</td>\n",
       "    </tr>\n",
       "    <tr>\n",
       "      <th>4</th>\n",
       "      <td>Alicia</td>\n",
       "      <td>Barker</td>\n",
       "      <td>wduarte@yahoo.com</td>\n",
       "      <td>Port Elijah</td>\n",
       "      <td>5407 Conrad Divide</td>\n",
       "      <td>Arizona</td>\n",
       "      <td>12/13/2019</td>\n",
       "      <td>140995b6-91f1-465f-9491-c7413112a9ee</td>\n",
       "      <td>03:07 AM</td>\n",
       "      <td>5</td>\n",
       "      <td>'waffle Spa Slide' Slipper (women)</td>\n",
       "      <td>green</td>\n",
       "      <td>leather</td>\n",
       "      <td>59.95</td>\n",
       "      <td>recycled material</td>\n",
       "      <td>wedges</td>\n",
       "      <td>299.75</td>\n",
       "      <td>2019-12-13</td>\n",
       "    </tr>\n",
       "  </tbody>\n",
       "</table>\n",
       "</div>"
      ],
      "text/plain": [
       "  first_name   last_name                    email            city  \\\n",
       "0    Ximenes     Oxshott  xoxshott0@biglobe.ne.jp     Idaho Falls   \n",
       "1      Urson      Wilcox    uwilcox2w@weather.com            Lima   \n",
       "2      Svend  De la Feld      sdelafeld58@last.fm      Wilmington   \n",
       "3      Laura       Potts  bmartin@scott-carr.info  Rodriguezmouth   \n",
       "4     Alicia      Barker        wduarte@yahoo.com     Port Elijah   \n",
       "\n",
       "                         address      state transactionDate  \\\n",
       "0                5 Pearson Plaza      Idaho      04/04/2019   \n",
       "1                    8 Muir Road       Ohio      02/03/2019   \n",
       "2                     0 5th Pass   Delaware      07/21/2019   \n",
       "3  03918 Rachel Meadows Apt. 214  Wisconsin      01/26/2019   \n",
       "4             5407 Conrad Divide    Arizona      12/13/2019   \n",
       "\n",
       "                          transactionID      time  quantity  \\\n",
       "0  6e3e9c86-2251-44bc-8249-8045e5406cca   7:07 PM         2   \n",
       "1  aaacafb6-112c-41ad-baf1-44b54b17170b   3:21 AM         1   \n",
       "2  3727a9ae-9914-421c-9adc-eb4f1dd010f4   5:04 AM         2   \n",
       "3  649691c5-a77f-4ae2-bee1-4894a03b2dd3  06:26 PM         1   \n",
       "4  140995b6-91f1-465f-9491-c7413112a9ee  03:07 AM         5   \n",
       "\n",
       "                                 name  color materials  prices  \\\n",
       "0  'waffle Spa Slide' Slipper (women)  green   leather   59.95   \n",
       "1  'waffle Spa Slide' Slipper (women)  green   leather   59.95   \n",
       "2  'waffle Spa Slide' Slipper (women)  green   leather   59.95   \n",
       "3  'waffle Spa Slide' Slipper (women)  green   leather   59.95   \n",
       "4  'waffle Spa Slide' Slipper (women)  green   leather   59.95   \n",
       "\n",
       "             feature category   cost        Date  \n",
       "0  recycled material   wedges 119.90  2019-04-04  \n",
       "1  recycled material   wedges  59.95  2019-02-03  \n",
       "2  recycled material   wedges 119.90  2019-07-21  \n",
       "3  recycled material   wedges  59.95  2019-01-26  \n",
       "4  recycled material   wedges 299.75  2019-12-13  "
      ]
     },
     "execution_count": 5,
     "metadata": {},
     "output_type": "execute_result"
    }
   ],
   "source": [
    "Shunique.head()"
   ]
  },
  {
   "cell_type": "markdown",
   "metadata": {},
   "source": [
    "## Question 1 (Code Below)\n",
    "\n",
    "**(1a.)** what was the name of the Best selling shoe and total sales for the Second Fiscal Quarter(Q2) of 2020?\n",
    "\n",
    "**(1b)**. How did it compare to that shoe's sales in 2019 Q2?  Is it the hottest selling shoe in Q2 2019?  What else can you say about the Q2 2019 versus Q2 2020 performance of this shoe relative to other top sellers during these quarters?  \n",
    "\n",
    "**Definition of Quarters:**\n",
    "January, February, and March (Q1)\n",
    "April, May, and June (Q2)\n",
    "July, August, and September (Q3)\n",
    "October, November, and December (Q4) "
   ]
  },
  {
   "cell_type": "markdown",
   "metadata": {},
   "source": [
    "**Answer 1a:** The 'Mirak Womens 12482-18788 Khaki Lace Up Waterproof Walking Boot 3' was the best selling shoe for quarter 2 of 2020; with total revenue of \\\\$102,480.00."
   ]
  },
  {
   "cell_type": "markdown",
   "metadata": {},
   "source": [
    "**Answer 1b:** When looking at quarter 2 of 2019, we can see that the shoe had the same revenue of \\\\$102,480.00; which leaves it flat year over year. \n",
    "\n",
    "It was not the hottest selling shoe in quarter 2 of 2019, instead the 'Diamond Eternity Band' was the best selling with \\\\$138,566.67 in revenue for the period. \n",
    "\n",
    "Looking year over year, we can see that not only did the 'Mirak' shoe remain flat, but other top sellers total revenue decreased; pushing that shoe into the top selling spot. Overall revenue for quarter 2 of 2020 declined comparative to the prior year. "
   ]
  },
  {
   "cell_type": "code",
   "execution_count": 6,
   "metadata": {},
   "outputs": [
    {
     "data": {
      "text/html": [
       "<div>\n",
       "<style scoped>\n",
       "    .dataframe tbody tr th:only-of-type {\n",
       "        vertical-align: middle;\n",
       "    }\n",
       "\n",
       "    .dataframe tbody tr th {\n",
       "        vertical-align: top;\n",
       "    }\n",
       "\n",
       "    .dataframe thead th {\n",
       "        text-align: right;\n",
       "    }\n",
       "</style>\n",
       "<table border=\"1\" class=\"dataframe\">\n",
       "  <thead>\n",
       "    <tr style=\"text-align: right;\">\n",
       "      <th></th>\n",
       "      <th>quantity</th>\n",
       "      <th>prices</th>\n",
       "      <th>cost</th>\n",
       "    </tr>\n",
       "    <tr>\n",
       "      <th>name</th>\n",
       "      <th></th>\n",
       "      <th></th>\n",
       "      <th></th>\n",
       "    </tr>\n",
       "  </thead>\n",
       "  <tbody>\n",
       "    <tr>\n",
       "      <th>Mirak Womens 12482-18788 Khaki Lace Up Waterproof Walking Boot 3</th>\n",
       "      <td>24</td>\n",
       "      <td>68320.00</td>\n",
       "      <td>102480.00</td>\n",
       "    </tr>\n",
       "    <tr>\n",
       "      <th>Yu&amp;yu Women's Shoes Round Toe Chunky Heel Oxfords Shoes More Colors Available</th>\n",
       "      <td>630</td>\n",
       "      <td>46020.40</td>\n",
       "      <td>69030.60</td>\n",
       "    </tr>\n",
       "    <tr>\n",
       "      <th>Diamond Eternity Band</th>\n",
       "      <td>15</td>\n",
       "      <td>54586.87</td>\n",
       "      <td>62984.85</td>\n",
       "    </tr>\n",
       "    <tr>\n",
       "      <th>Yu&amp;yu Women's Shoes Pointed Toe Flat Heel Flats Shoes More Colors Available</th>\n",
       "      <td>512</td>\n",
       "      <td>37632.54</td>\n",
       "      <td>54738.24</td>\n",
       "    </tr>\n",
       "    <tr>\n",
       "      <th>Yu&amp;yu Women's Shoes Round Toe Low Heel Oxfords Shoes More Colors Available</th>\n",
       "      <td>420</td>\n",
       "      <td>28436.07</td>\n",
       "      <td>45935.19</td>\n",
       "    </tr>\n",
       "  </tbody>\n",
       "</table>\n",
       "</div>"
      ],
      "text/plain": [
       "                                                    quantity   prices  \\\n",
       "name                                                                    \n",
       "Mirak Womens 12482-18788 Khaki Lace Up Waterpro...        24 68320.00   \n",
       "Yu&yu Women's Shoes Round Toe Chunky Heel Oxfor...       630 46020.40   \n",
       "Diamond Eternity Band                                     15 54586.87   \n",
       "Yu&yu Women's Shoes Pointed Toe Flat Heel Flats...       512 37632.54   \n",
       "Yu&yu Women's Shoes Round Toe Low Heel Oxfords ...       420 28436.07   \n",
       "\n",
       "                                                        cost  \n",
       "name                                                          \n",
       "Mirak Womens 12482-18788 Khaki Lace Up Waterpro... 102480.00  \n",
       "Yu&yu Women's Shoes Round Toe Chunky Heel Oxfor...  69030.60  \n",
       "Diamond Eternity Band                               62984.85  \n",
       "Yu&yu Women's Shoes Pointed Toe Flat Heel Flats...  54738.24  \n",
       "Yu&yu Women's Shoes Round Toe Low Heel Oxfords ...  45935.19  "
      ]
     },
     "execution_count": 6,
     "metadata": {},
     "output_type": "execute_result"
    }
   ],
   "source": [
    "Shunique['transactionDate'] = pd.to_datetime(Shunique['transactionDate'])\n",
    "\n",
    "Sales_2020 = Shunique[(Shunique['transactionDate'] >= '1/1/2020') & (Shunique['transactionDate'] <= '12/31/2020')]\n",
    "\n",
    "Q2_2020 = Sales_2020[Sales_2020['transactionDate'].dt.quarter == 2]\n",
    "\n",
    "Q2_2020.groupby(by='name').sum().sort_values('cost', ascending=False)[:5]"
   ]
  },
  {
   "cell_type": "code",
   "execution_count": 61,
   "metadata": {},
   "outputs": [
    {
     "data": {
      "text/html": [
       "<div>\n",
       "<style scoped>\n",
       "    .dataframe tbody tr th:only-of-type {\n",
       "        vertical-align: middle;\n",
       "    }\n",
       "\n",
       "    .dataframe tbody tr th {\n",
       "        vertical-align: top;\n",
       "    }\n",
       "\n",
       "    .dataframe thead th {\n",
       "        text-align: right;\n",
       "    }\n",
       "</style>\n",
       "<table border=\"1\" class=\"dataframe\">\n",
       "  <thead>\n",
       "    <tr style=\"text-align: right;\">\n",
       "      <th></th>\n",
       "      <th>quantity</th>\n",
       "      <th>prices</th>\n",
       "      <th>cost</th>\n",
       "    </tr>\n",
       "    <tr>\n",
       "      <th>name</th>\n",
       "      <th></th>\n",
       "      <th></th>\n",
       "      <th></th>\n",
       "    </tr>\n",
       "  </thead>\n",
       "  <tbody>\n",
       "    <tr>\n",
       "      <th>Diamond Eternity Band</th>\n",
       "      <td>33</td>\n",
       "      <td>83979.80</td>\n",
       "      <td>138566.67</td>\n",
       "    </tr>\n",
       "    <tr>\n",
       "      <th>Yu&amp;yu Women's Shoes Round Toe Chunky Heel Oxfords Shoes More Colors Available</th>\n",
       "      <td>1218</td>\n",
       "      <td>82836.72</td>\n",
       "      <td>133459.16</td>\n",
       "    </tr>\n",
       "    <tr>\n",
       "      <th>Mirak Womens 12482-18788 Khaki Lace Up Waterproof Walking Boot 3</th>\n",
       "      <td>24</td>\n",
       "      <td>72590.00</td>\n",
       "      <td>102480.00</td>\n",
       "    </tr>\n",
       "    <tr>\n",
       "      <th>Yu&amp;yu Women's Shoes Round Toe Low Heel Oxfords Shoes More Colors Available</th>\n",
       "      <td>680</td>\n",
       "      <td>41560.41</td>\n",
       "      <td>74371.26</td>\n",
       "    </tr>\n",
       "    <tr>\n",
       "      <th>'pebbles' Tall Gladiator Pump (women)</th>\n",
       "      <td>26</td>\n",
       "      <td>36800.00</td>\n",
       "      <td>59800.00</td>\n",
       "    </tr>\n",
       "  </tbody>\n",
       "</table>\n",
       "</div>"
      ],
      "text/plain": [
       "                                                    quantity   prices  \\\n",
       "name                                                                    \n",
       "Diamond Eternity Band                                     33 83979.80   \n",
       "Yu&yu Women's Shoes Round Toe Chunky Heel Oxfor...      1218 82836.72   \n",
       "Mirak Womens 12482-18788 Khaki Lace Up Waterpro...        24 72590.00   \n",
       "Yu&yu Women's Shoes Round Toe Low Heel Oxfords ...       680 41560.41   \n",
       "'pebbles' Tall Gladiator Pump (women)                     26 36800.00   \n",
       "\n",
       "                                                        cost  \n",
       "name                                                          \n",
       "Diamond Eternity Band                              138566.67  \n",
       "Yu&yu Women's Shoes Round Toe Chunky Heel Oxfor... 133459.16  \n",
       "Mirak Womens 12482-18788 Khaki Lace Up Waterpro... 102480.00  \n",
       "Yu&yu Women's Shoes Round Toe Low Heel Oxfords ...  74371.26  \n",
       "'pebbles' Tall Gladiator Pump (women)               59800.00  "
      ]
     },
     "execution_count": 61,
     "metadata": {},
     "output_type": "execute_result"
    }
   ],
   "source": [
    "Sales_2019 = Shunique[(Shunique['transactionDate'] >= '1/1/2019') & (Shunique['transactionDate'] <= '12/31/2019')]\n",
    "\n",
    "Q2_2019 = Sales_2019[Sales_2019['transactionDate'].dt.quarter == 2]\n",
    "\n",
    "Q2_2019.groupby(by='name').sum().sort_values('cost', ascending=False)[:5]"
   ]
  },
  {
   "cell_type": "markdown",
   "metadata": {},
   "source": [
    "## Question 2 (Code Below)\n",
    "\n",
    "Over the life of the collected data,\n",
    "\n",
    "**(2a)** What state has the highest total sales? \n",
    "\n",
    "**(2b)** Which state/district/terrritory sold the most shoes over this same period?  \n",
    "\n",
    "**(2c)** Which state/district/terrritory sold the least number of shoes over this period?"
   ]
  },
  {
   "cell_type": "markdown",
   "metadata": {},
   "source": [
    "**Answer 2a:** Texas has the higest total sales over the life of the collected data, with \\\\$4,046,697.79 in revenue for the time period."
   ]
  },
  {
   "cell_type": "markdown",
   "metadata": {},
   "source": [
    "**Answer 2b:** Texas sold the most shoes over the time period, with 43,399 pairs sold."
   ]
  },
  {
   "cell_type": "markdown",
   "metadata": {},
   "source": [
    "**Answer 2c:** By comparison, the District of Columbia sold the least shoes over the time period, with 2,770 pairs sold."
   ]
  },
  {
   "cell_type": "code",
   "execution_count": 8,
   "metadata": {},
   "outputs": [
    {
     "data": {
      "text/html": [
       "<div>\n",
       "<style scoped>\n",
       "    .dataframe tbody tr th:only-of-type {\n",
       "        vertical-align: middle;\n",
       "    }\n",
       "\n",
       "    .dataframe tbody tr th {\n",
       "        vertical-align: top;\n",
       "    }\n",
       "\n",
       "    .dataframe thead th {\n",
       "        text-align: right;\n",
       "    }\n",
       "</style>\n",
       "<table border=\"1\" class=\"dataframe\">\n",
       "  <thead>\n",
       "    <tr style=\"text-align: right;\">\n",
       "      <th></th>\n",
       "      <th>quantity</th>\n",
       "      <th>prices</th>\n",
       "      <th>cost</th>\n",
       "    </tr>\n",
       "    <tr>\n",
       "      <th>state</th>\n",
       "      <th></th>\n",
       "      <th></th>\n",
       "      <th></th>\n",
       "    </tr>\n",
       "  </thead>\n",
       "  <tbody>\n",
       "    <tr>\n",
       "      <th>Texas</th>\n",
       "      <td>43399</td>\n",
       "      <td>2534360.26</td>\n",
       "      <td>4046697.79</td>\n",
       "    </tr>\n",
       "    <tr>\n",
       "      <th>California</th>\n",
       "      <td>42987</td>\n",
       "      <td>2549023.99</td>\n",
       "      <td>4040519.98</td>\n",
       "    </tr>\n",
       "    <tr>\n",
       "      <th>Florida</th>\n",
       "      <td>40655</td>\n",
       "      <td>2439983.57</td>\n",
       "      <td>3915786.35</td>\n",
       "    </tr>\n",
       "    <tr>\n",
       "      <th>New York</th>\n",
       "      <td>38431</td>\n",
       "      <td>2307715.10</td>\n",
       "      <td>3711601.23</td>\n",
       "    </tr>\n",
       "    <tr>\n",
       "      <th>Virginia</th>\n",
       "      <td>36322</td>\n",
       "      <td>2207662.72</td>\n",
       "      <td>3506240.78</td>\n",
       "    </tr>\n",
       "  </tbody>\n",
       "</table>\n",
       "</div>"
      ],
      "text/plain": [
       "            quantity     prices       cost\n",
       "state                                     \n",
       "Texas          43399 2534360.26 4046697.79\n",
       "California     42987 2549023.99 4040519.98\n",
       "Florida        40655 2439983.57 3915786.35\n",
       "New York       38431 2307715.10 3711601.23\n",
       "Virginia       36322 2207662.72 3506240.78"
      ]
     },
     "execution_count": 8,
     "metadata": {},
     "output_type": "execute_result"
    }
   ],
   "source": [
    "Shunique.groupby(by='state').sum().sort_values('cost', ascending=False)[:5]"
   ]
  },
  {
   "cell_type": "code",
   "execution_count": 9,
   "metadata": {},
   "outputs": [
    {
     "data": {
      "text/html": [
       "<div>\n",
       "<style scoped>\n",
       "    .dataframe tbody tr th:only-of-type {\n",
       "        vertical-align: middle;\n",
       "    }\n",
       "\n",
       "    .dataframe tbody tr th {\n",
       "        vertical-align: top;\n",
       "    }\n",
       "\n",
       "    .dataframe thead th {\n",
       "        text-align: right;\n",
       "    }\n",
       "</style>\n",
       "<table border=\"1\" class=\"dataframe\">\n",
       "  <thead>\n",
       "    <tr style=\"text-align: right;\">\n",
       "      <th></th>\n",
       "      <th>quantity</th>\n",
       "      <th>prices</th>\n",
       "      <th>cost</th>\n",
       "    </tr>\n",
       "    <tr>\n",
       "      <th>state</th>\n",
       "      <th></th>\n",
       "      <th></th>\n",
       "      <th></th>\n",
       "    </tr>\n",
       "  </thead>\n",
       "  <tbody>\n",
       "    <tr>\n",
       "      <th>Texas</th>\n",
       "      <td>43399</td>\n",
       "      <td>2534360.26</td>\n",
       "      <td>4046697.79</td>\n",
       "    </tr>\n",
       "    <tr>\n",
       "      <th>California</th>\n",
       "      <td>42987</td>\n",
       "      <td>2549023.99</td>\n",
       "      <td>4040519.98</td>\n",
       "    </tr>\n",
       "    <tr>\n",
       "      <th>Florida</th>\n",
       "      <td>40655</td>\n",
       "      <td>2439983.57</td>\n",
       "      <td>3915786.35</td>\n",
       "    </tr>\n",
       "    <tr>\n",
       "      <th>New York</th>\n",
       "      <td>38431</td>\n",
       "      <td>2307715.10</td>\n",
       "      <td>3711601.23</td>\n",
       "    </tr>\n",
       "    <tr>\n",
       "      <th>Virginia</th>\n",
       "      <td>36322</td>\n",
       "      <td>2207662.72</td>\n",
       "      <td>3506240.78</td>\n",
       "    </tr>\n",
       "  </tbody>\n",
       "</table>\n",
       "</div>"
      ],
      "text/plain": [
       "            quantity     prices       cost\n",
       "state                                     \n",
       "Texas          43399 2534360.26 4046697.79\n",
       "California     42987 2549023.99 4040519.98\n",
       "Florida        40655 2439983.57 3915786.35\n",
       "New York       38431 2307715.10 3711601.23\n",
       "Virginia       36322 2207662.72 3506240.78"
      ]
     },
     "execution_count": 9,
     "metadata": {},
     "output_type": "execute_result"
    }
   ],
   "source": [
    "Shunique.groupby(by='state').sum().sort_values('quantity', ascending=False)[:5]"
   ]
  },
  {
   "cell_type": "code",
   "execution_count": 10,
   "metadata": {},
   "outputs": [
    {
     "data": {
      "text/html": [
       "<div>\n",
       "<style scoped>\n",
       "    .dataframe tbody tr th:only-of-type {\n",
       "        vertical-align: middle;\n",
       "    }\n",
       "\n",
       "    .dataframe tbody tr th {\n",
       "        vertical-align: top;\n",
       "    }\n",
       "\n",
       "    .dataframe thead th {\n",
       "        text-align: right;\n",
       "    }\n",
       "</style>\n",
       "<table border=\"1\" class=\"dataframe\">\n",
       "  <thead>\n",
       "    <tr style=\"text-align: right;\">\n",
       "      <th></th>\n",
       "      <th>quantity</th>\n",
       "      <th>prices</th>\n",
       "      <th>cost</th>\n",
       "    </tr>\n",
       "    <tr>\n",
       "      <th>state</th>\n",
       "      <th></th>\n",
       "      <th></th>\n",
       "      <th></th>\n",
       "    </tr>\n",
       "  </thead>\n",
       "  <tbody>\n",
       "    <tr>\n",
       "      <th>District of Columbia</th>\n",
       "      <td>2770</td>\n",
       "      <td>156416.91</td>\n",
       "      <td>256872.67</td>\n",
       "    </tr>\n",
       "    <tr>\n",
       "      <th>Wyoming</th>\n",
       "      <td>33244</td>\n",
       "      <td>1995366.07</td>\n",
       "      <td>3157960.68</td>\n",
       "    </tr>\n",
       "    <tr>\n",
       "      <th>Hawaii</th>\n",
       "      <td>33382</td>\n",
       "      <td>1953617.98</td>\n",
       "      <td>3103894.39</td>\n",
       "    </tr>\n",
       "    <tr>\n",
       "      <th>Vermont</th>\n",
       "      <td>33416</td>\n",
       "      <td>2031303.16</td>\n",
       "      <td>3195624.82</td>\n",
       "    </tr>\n",
       "    <tr>\n",
       "      <th>Rhode Island</th>\n",
       "      <td>33431</td>\n",
       "      <td>1999880.69</td>\n",
       "      <td>3159869.28</td>\n",
       "    </tr>\n",
       "  </tbody>\n",
       "</table>\n",
       "</div>"
      ],
      "text/plain": [
       "                      quantity     prices       cost\n",
       "state                                               \n",
       "District of Columbia      2770  156416.91  256872.67\n",
       "Wyoming                  33244 1995366.07 3157960.68\n",
       "Hawaii                   33382 1953617.98 3103894.39\n",
       "Vermont                  33416 2031303.16 3195624.82\n",
       "Rhode Island             33431 1999880.69 3159869.28"
      ]
     },
     "execution_count": 10,
     "metadata": {},
     "output_type": "execute_result"
    }
   ],
   "source": [
    "Shunique.groupby(by='state').sum().sort_values('quantity', ascending=True)[:5]"
   ]
  },
  {
   "cell_type": "markdown",
   "metadata": {},
   "source": [
    "## Question 3 (Code Below)\n",
    "Jenna Flatbush wants to know what combination of shoes to introduce into low-performing cities.  You came up with the idea that they should start marketing combinations that are already selling well.\n",
    "\n",
    "**(3.)** What combination of attributes have the most sales? [ color, materials, feature, category ]"
   ]
  },
  {
   "cell_type": "markdown",
   "metadata": {},
   "source": [
    "**Answer 3:** When considering the best combination of attributes, wedges that are black, made of leather; and have the travel friendly feature, deliver the most sales. Over the life of the collected data, those attributes combined had \\\\$881,131.43 in revenue. "
   ]
  },
  {
   "cell_type": "code",
   "execution_count": 11,
   "metadata": {},
   "outputs": [
    {
     "data": {
      "text/html": [
       "<div>\n",
       "<style scoped>\n",
       "    .dataframe tbody tr th:only-of-type {\n",
       "        vertical-align: middle;\n",
       "    }\n",
       "\n",
       "    .dataframe tbody tr th {\n",
       "        vertical-align: top;\n",
       "    }\n",
       "\n",
       "    .dataframe thead th {\n",
       "        text-align: right;\n",
       "    }\n",
       "</style>\n",
       "<table border=\"1\" class=\"dataframe\">\n",
       "  <thead>\n",
       "    <tr style=\"text-align: right;\">\n",
       "      <th></th>\n",
       "      <th></th>\n",
       "      <th></th>\n",
       "      <th></th>\n",
       "      <th>quantity</th>\n",
       "      <th>prices</th>\n",
       "      <th>cost</th>\n",
       "    </tr>\n",
       "    <tr>\n",
       "      <th>color</th>\n",
       "      <th>materials</th>\n",
       "      <th>feature</th>\n",
       "      <th>category</th>\n",
       "      <th></th>\n",
       "      <th></th>\n",
       "      <th></th>\n",
       "    </tr>\n",
       "  </thead>\n",
       "  <tbody>\n",
       "    <tr>\n",
       "      <th rowspan=\"3\" valign=\"top\">black</th>\n",
       "      <th>leather</th>\n",
       "      <th>travel friendly</th>\n",
       "      <th>wedges</th>\n",
       "      <td>1423</td>\n",
       "      <td>529582.16</td>\n",
       "      <td>881131.43</td>\n",
       "    </tr>\n",
       "    <tr>\n",
       "      <th>rubber</th>\n",
       "      <th>diabetic approved</th>\n",
       "      <th>wedges</th>\n",
       "      <td>167</td>\n",
       "      <td>461160.00</td>\n",
       "      <td>713090.00</td>\n",
       "    </tr>\n",
       "    <tr>\n",
       "      <th>leather</th>\n",
       "      <th>padding</th>\n",
       "      <th>heels</th>\n",
       "      <td>2095</td>\n",
       "      <td>327130.26</td>\n",
       "      <td>523562.83</td>\n",
       "    </tr>\n",
       "    <tr>\n",
       "      <th>metallic</th>\n",
       "      <th>nubuck</th>\n",
       "      <th>strappy</th>\n",
       "      <th>wedges</th>\n",
       "      <td>206</td>\n",
       "      <td>294400.00</td>\n",
       "      <td>473800.00</td>\n",
       "    </tr>\n",
       "    <tr>\n",
       "      <th>black</th>\n",
       "      <th>leather</th>\n",
       "      <th>wearable tech</th>\n",
       "      <th>sandals</th>\n",
       "      <td>1858</td>\n",
       "      <td>251163.59</td>\n",
       "      <td>409756.96</td>\n",
       "    </tr>\n",
       "  </tbody>\n",
       "</table>\n",
       "</div>"
      ],
      "text/plain": [
       "                                               quantity    prices      cost\n",
       "color    materials feature           category                              \n",
       "black    leather   travel friendly   wedges        1423 529582.16 881131.43\n",
       "         rubber    diabetic approved wedges         167 461160.00 713090.00\n",
       "         leather   padding           heels         2095 327130.26 523562.83\n",
       "metallic nubuck    strappy           wedges         206 294400.00 473800.00\n",
       "black    leather   wearable tech     sandals       1858 251163.59 409756.96"
      ]
     },
     "execution_count": 11,
     "metadata": {},
     "output_type": "execute_result"
    }
   ],
   "source": [
    "Shunique.groupby(by=['color', 'materials', 'feature', 'category']).sum().sort_values('cost', ascending=False)[:5]\n",
    "\n",
    " "
   ]
  },
  {
   "cell_type": "markdown",
   "metadata": {},
   "source": [
    "## Question 4 (Code Below)\n",
    "\n",
    "Jamaica Flatbush is unsure of how Shunique performed last year (2019). \n",
    "\n",
    "**(4a)** What were total sales?\n",
    "\n",
    "**(4b)** Plot daily, monthly, quarterly sales for 2019. \n",
    "\n",
    "**(4c)** Are there any trends? \n",
    "\n",
    "**(4d)** In the monthly sales data, describe a significant event (ie. increase or decrease in sales) and hypothesize(make a wild guest) about its existence? What additional evidence(data) would be needed to support or negate your hypothesis."
   ]
  },
  {
   "cell_type": "markdown",
   "metadata": {},
   "source": [
    "**Answer 4a:** Total sales for 2019 were \\\\$87,005,120.81."
   ]
  },
  {
   "cell_type": "code",
   "execution_count": 12,
   "metadata": {},
   "outputs": [
    {
     "data": {
      "text/plain": [
       "87005120.81000003"
      ]
     },
     "execution_count": 12,
     "metadata": {},
     "output_type": "execute_result"
    }
   ],
   "source": [
    "Sales_2019_Update = Shunique[Shunique['transactionDate'].dt.year == 2019]\n",
    "\n",
    "Sales_2019_Update['cost'].sum()"
   ]
  },
  {
   "cell_type": "markdown",
   "metadata": {},
   "source": [
    "**Answer 4b:** Daily, monthly and quarterly sales plots for 2019 below:"
   ]
  },
  {
   "cell_type": "code",
   "execution_count": 13,
   "metadata": {},
   "outputs": [
    {
     "data": {
      "image/png": "[encoded data removed]",
      "text/plain": [
       "<Figure size 432x288 with 1 Axes>"
      ]
     },
     "metadata": {
      "image/png": {
       "height": 288,
       "width": 407
      },
      "needs_background": "light"
     },
     "output_type": "display_data"
    }
   ],
   "source": [
    "df_d_2019 = Sales_2019_Update.set_index('transactionDate')\n",
    "\n",
    "Daily_Sales_2019 = df_d_2019.groupby(pd.Grouper(freq='D'))['cost'].sum()\n",
    "\n",
    "ax = Daily_Sales_2019.plot()\n",
    "\n",
    "ax.set_title('2019 Daily Sales')\n",
    "\n",
    "ax.set_xlabel('Transaction Date')\n",
    "\n",
    "ax.set_ylabel('Daily Revenue');"
   ]
  },
  {
   "cell_type": "code",
   "execution_count": 14,
   "metadata": {},
   "outputs": [
    {
     "data": {
      "image/png": "[encoded data removed]",
      "text/plain": [
       "<Figure size 432x288 with 1 Axes>"
      ]
     },
     "metadata": {
      "image/png": {
       "height": 288,
       "width": 424
      },
      "needs_background": "light"
     },
     "output_type": "display_data"
    }
   ],
   "source": [
    "df_m_2019 = Sales_2019_Update.set_index('transactionDate')\n",
    "\n",
    "Monthly_Sales_2019 = df_m_2019.groupby(pd.Grouper(freq='M'))['cost'].sum()\n",
    "\n",
    "ax_m = Monthly_Sales_2019.plot()\n",
    "\n",
    "ax_m.set_title('2019 Monthly Sales')\n",
    "\n",
    "ax_m.set_xlabel('Transaction Date')\n",
    "\n",
    "ax_m.ticklabel_format(style='plain', axis='y')\n",
    "\n",
    "ax_m.set_ylabel('Monthly Revenue');"
   ]
  },
  {
   "cell_type": "code",
   "execution_count": 15,
   "metadata": {},
   "outputs": [
    {
     "data": {
      "image/png": "[encoded data removed]",
      "text/plain": [
       "<Figure size 432x288 with 1 Axes>"
      ]
     },
     "metadata": {
      "image/png": {
       "height": 288,
       "width": 427
      },
      "needs_background": "light"
     },
     "output_type": "display_data"
    }
   ],
   "source": [
    "df_q_2019 = Sales_2019_Update.set_index('transactionDate')\n",
    "\n",
    "Quarterly_Sales_2019 = df_q_2019.groupby(pd.Grouper(freq='Q'))['cost'].sum()\n",
    "\n",
    "ax_q = Quarterly_Sales_2019.plot()\n",
    "\n",
    "ax_q.set_title('2019 Quarterly Sales')\n",
    "\n",
    "ax_q.set_xlabel('Transaction Date')\n",
    "\n",
    "ax_q.ticklabel_format(style='plain', axis='y')\n",
    "\n",
    "ax_q.set_ylabel('Quarterly Revenue');"
   ]
  },
  {
   "cell_type": "markdown",
   "metadata": {},
   "source": [
    "**Answer 4c:** While looking at each of the three charts, it's evident that sales in quarter one, two and three of 2019 were on average relatively flat and consistent. While revenue varies by day or by month, the quarterly plot demonstrates how close the time periods were. It's evident however that sales picked up during quarter four, most likely due to sales for the fall and holiday season. "
   ]
  },
  {
   "cell_type": "markdown",
   "metadata": {},
   "source": [
    "**Answer 4d:** Looking at the montly sales data, one of the most significant events was the increase in sales during the month of October. Considering the sharp change from September to that point, it could be hypothesized that more shoes from Shunique were sold for the run up to Halloween, as well as the arrival of fall.\n",
    "\n",
    "The hypotheis is based on the fact of which month it is (Halloween month), as well as the original map provided that demonstrated shoes sold per city (Mostly concentrated towards the east side of the country where fall could precipitate a change in shoe purchases). \n",
    "\n",
    "In order to examine the hypothesis, we would need to look at what attributes sold well during the month of october, where the consumers were generally located; as well as what days the purchases occured (Examing days could be useful to check if any promotions were going on at the time, or if any particular directives from the company were given). We would also want to analyze what shoes prices were the most prevelent - Certain types of purchases could help determine if some were more personal driven or more gift driven. "
   ]
  },
  {
   "cell_type": "markdown",
   "metadata": {},
   "source": [
    "## Question 5 (Code Below)\n",
    "\n",
    "As we are approaching the winter months, Mr. Flatbush is sure that heels will be a big seller.  He wants to know if we are on track to outperform our past sales of heels (based on previous 2 months performance June 2020 and July 2020)? \n",
    "\n",
    "**(5a)** Create a regression model based on daily sales of heels for this time period. \n",
    "\n",
    "**(5b)** State and interpret the regression equation. \n",
    "\n",
    "**(5c)** Use your model to make a prediction for the sales on 8/1/2020."
   ]
  },
  {
   "cell_type": "markdown",
   "metadata": {},
   "source": [
    "**Answer 5a:** Regression model for daily heel sales between 6/1/2020 and 7/31/2020 below:"
   ]
  },
  {
   "cell_type": "code",
   "execution_count": 16,
   "metadata": {},
   "outputs": [
    {
     "data": {
      "image/png": "[encoded data removed]",
      "text/plain": [
       "<Figure size 432x288 with 1 Axes>"
      ]
     },
     "metadata": {
      "image/png": {
       "height": 277,
       "width": 395
      },
      "needs_background": "light"
     },
     "output_type": "display_data"
    }
   ],
   "source": [
    "Summer_2020_Sales = Shunique[(Shunique['transactionDate'] >= '6/1/2020') & (Shunique['transactionDate'] <= '7/31/2020')]\n",
    "\n",
    "Heel_Summer_2020_Sales = Summer_2020_Sales[(Summer_2020_Sales['category']==\"heels\")]\n",
    "\n",
    "reg = Heel_Summer_2020_Sales.set_index('transactionDate').groupby(pd.Grouper(freq='D')).sum()\n",
    "\n",
    "x=list(range(0, 61))\n",
    "\n",
    "ax_reg = sns.regplot(x=x, y=reg['quantity'])\n",
    "\n",
    "ax_reg.set_title('Summer 2020 Heel Regression')\n",
    "\n",
    "ax_reg.set_xlabel('Day')\n",
    "\n",
    "ax_reg.set_ylabel('Quantity Sold');"
   ]
  },
  {
   "cell_type": "code",
   "execution_count": 17,
   "metadata": {},
   "outputs": [
    {
     "name": "stdout",
     "output_type": "stream",
     "text": [
      "LinregressResult(slope=0.38730830248545756, intercept=481.6102591221576, rvalue=0.18153043863302853, pvalue=0.16147427743927542, stderr=0.27315242944006063, intercept_stderr=9.501622079829255)\n"
     ]
    }
   ],
   "source": [
    "lin_reg = stats.linregress(x=x, y=reg['quantity'])\n",
    "\n",
    "print(lin_reg)"
   ]
  },
  {
   "cell_type": "code",
   "execution_count": 18,
   "metadata": {},
   "outputs": [
    {
     "name": "stdout",
     "output_type": "stream",
     "text": [
      "y = 0.38730830248545756x + 481.6102591221576\n",
      "Correlation Coefficient r: 0.18153043863302853\n"
     ]
    }
   ],
   "source": [
    "slope = lin_reg[0]\n",
    "\n",
    "intercept = lin_reg[1]\n",
    "\n",
    "r_value = lin_reg[2]\n",
    "\n",
    "print(f\"y = {slope}x + {intercept}\")\n",
    "\n",
    "print(f\"Correlation Coefficient r: {r_value}\")"
   ]
  },
  {
   "cell_type": "markdown",
   "metadata": {},
   "source": [
    "**Answer 5b:** In plain language, what this equation means is that we predict on day 1 (6/1/2020) there will be 481.61 pairs of heels sold plus an additional 0.387 pairs sold for each day during the summer.\n",
    "\n",
    "The correlation coefficient tells us that the linear relationship between days and quantity sold is positive but weak.\n",
    "\n",
    "While pairs of shoes can only be in full numbers, decimals are left in this example to correspond with the numbers delivered by the model."
   ]
  },
  {
   "cell_type": "markdown",
   "metadata": {},
   "source": [
    "**Answer 5c:** Based on our model and information below, we predict that sales of heels on 8/1/2020 will be 505.24 pairs.\n",
    "\n",
    "While pairs of shoes can only be in full numbers, decimals are left in this example to correspond with the numbers delivered by the model."
   ]
  },
  {
   "cell_type": "code",
   "execution_count": 19,
   "metadata": {},
   "outputs": [
    {
     "name": "stdout",
     "output_type": "stream",
     "text": [
      "We predict sales on 8/1/2020 to be 505.24 pairs of heels.\n"
     ]
    }
   ],
   "source": [
    "day = 61\n",
    "\n",
    "heel_pred = slope * day + intercept\n",
    "\n",
    "print(f\"We predict sales on 8/1/2020 to be {heel_pred:.2f} pairs of heels.\")"
   ]
  },
  {
   "cell_type": "markdown",
   "metadata": {},
   "source": [
    "## Question 6 (Code Below)\n",
    "\n",
    "A key metric for retail sales data is Average Purchase Value(APV).  APV measures the average value of each purchase made by your customers and will often compare that to the average number of units per transaction(ANU). The formula for APV is (Total Sales Revenue / Number of Customers or Transactions)\n",
    "\n",
    "**(6a).** Calculate the Average Purchase Value for Q1 and Q4 of 2019.\n",
    "\n",
    "**(6b).** Calculate the average number of units per transaction for Q1 and Q4\n",
    "\n",
    "**(6c).** Describe the differences between Q1 and Q4 values.  Speculate on possible causes for differences(Hint: Seasonality)"
   ]
  },
  {
   "cell_type": "markdown",
   "metadata": {},
   "source": [
    "**Answer 6a:** The Average Purchase Value (APV) for Q1 is \\\\$146.75 and the APV for Q4 is \\\\$182.46 "
   ]
  },
  {
   "cell_type": "code",
   "execution_count": 20,
   "metadata": {},
   "outputs": [],
   "source": [
    "Q1_2019 = Sales_2019[Sales_2019['transactionDate'].dt.quarter == 1]\n",
    "\n",
    "Q4_2019 = Sales_2019[Sales_2019['transactionDate'].dt.quarter == 4]\n",
    "\n",
    "Q1_2019_APV = Q1_2019['cost'].sum()/Q1_2019['first_name'].count()\n",
    "\n",
    "Q4_2019_APV = Q4_2019['cost'].sum()/Q4_2019['first_name'].count()"
   ]
  },
  {
   "cell_type": "code",
   "execution_count": 21,
   "metadata": {},
   "outputs": [
    {
     "data": {
      "text/plain": [
       "146.75329320579286"
      ]
     },
     "execution_count": 21,
     "metadata": {},
     "output_type": "execute_result"
    }
   ],
   "source": [
    "Q1_2019_APV"
   ]
  },
  {
   "cell_type": "code",
   "execution_count": 22,
   "metadata": {},
   "outputs": [
    {
     "data": {
      "text/plain": [
       "182.45593876984609"
      ]
     },
     "execution_count": 22,
     "metadata": {},
     "output_type": "execute_result"
    }
   ],
   "source": [
    "Q4_2019_APV"
   ]
  },
  {
   "cell_type": "markdown",
   "metadata": {},
   "source": [
    "**Answer 6b:** The Average number of units per transaction (ANU) for Q1 is 1.55 and the ANU for Q4 is 1.90"
   ]
  },
  {
   "cell_type": "code",
   "execution_count": 23,
   "metadata": {},
   "outputs": [],
   "source": [
    "Q1_2019_ANU = Q1_2019['quantity'].sum()/Q1_2019['first_name'].count()\n",
    "\n",
    "Q4_2019_ANU = Q4_2019['quantity'].sum()/Q4_2019['first_name'].count()"
   ]
  },
  {
   "cell_type": "code",
   "execution_count": 24,
   "metadata": {},
   "outputs": [
    {
     "data": {
      "text/plain": [
       "1.5485398636386642"
      ]
     },
     "execution_count": 24,
     "metadata": {},
     "output_type": "execute_result"
    }
   ],
   "source": [
    "Q1_2019_ANU"
   ]
  },
  {
   "cell_type": "code",
   "execution_count": 25,
   "metadata": {},
   "outputs": [
    {
     "data": {
      "text/plain": [
       "1.9030522562785104"
      ]
     },
     "execution_count": 25,
     "metadata": {},
     "output_type": "execute_result"
    }
   ],
   "source": [
    "Q4_2019_ANU"
   ]
  },
  {
   "cell_type": "markdown",
   "metadata": {},
   "source": [
    "**Answer 6c:** Looking at both APV and ANU for quarters 1 and 4 of 2019; we can see that quarter 1 is less for both metrics. One of the possible casues for this could be related to the holiday season that spans quarter 4: As consumers purchase for themselves, as well as gifts for others; we see both purchase value and units per transaction going up. \n",
    "\n",
    "We could theorize as well that weather during quarter four drives shoe purchases. As we see a fair amount of the business happens between the midwest and east coast (per the map at the top of the workbook) - As cooler weather approaches various styles, colors and materials may be driving sales up during the quarter. "
   ]
  },
  {
   "cell_type": "markdown",
   "metadata": {},
   "source": [
    "## Question 7 (Code Below)\n",
    "\n",
    "Shunique is looking to expand its distribution centers so that it can outperform Zappos on delivery time to customers.  It is important to know what states and regions are epicenters for high sales and you have been asked to present the following results.\n",
    "\n",
    "**(7a)** Report 2020 Sales by state - Present results tabularly \n",
    "\n",
    "**(7b)** In Tableau create a Map visualization of total sales(2018 - 2020) by Region [Northeast, West, Midwest, South]."
   ]
  },
  {
   "cell_type": "markdown",
   "metadata": {},
   "source": [
    "**Answer 7a:** Sales by state for 2020 below:"
   ]
  },
  {
   "cell_type": "code",
   "execution_count": 26,
   "metadata": {},
   "outputs": [
    {
     "data": {
      "text/html": [
       "<div>\n",
       "<style scoped>\n",
       "    .dataframe tbody tr th:only-of-type {\n",
       "        vertical-align: middle;\n",
       "    }\n",
       "\n",
       "    .dataframe tbody tr th {\n",
       "        vertical-align: top;\n",
       "    }\n",
       "\n",
       "    .dataframe thead th {\n",
       "        text-align: right;\n",
       "    }\n",
       "</style>\n",
       "<table border=\"1\" class=\"dataframe\">\n",
       "  <thead>\n",
       "    <tr style=\"text-align: right;\">\n",
       "      <th></th>\n",
       "      <th>cost</th>\n",
       "    </tr>\n",
       "    <tr>\n",
       "      <th>state</th>\n",
       "      <th></th>\n",
       "    </tr>\n",
       "  </thead>\n",
       "  <tbody>\n",
       "    <tr>\n",
       "      <th>Texas</th>\n",
       "      <td>1238215.58</td>\n",
       "    </tr>\n",
       "    <tr>\n",
       "      <th>California</th>\n",
       "      <td>1219721.54</td>\n",
       "    </tr>\n",
       "    <tr>\n",
       "      <th>Florida</th>\n",
       "      <td>1143359.72</td>\n",
       "    </tr>\n",
       "    <tr>\n",
       "      <th>New York</th>\n",
       "      <td>1074477.72</td>\n",
       "    </tr>\n",
       "    <tr>\n",
       "      <th>Ohio</th>\n",
       "      <td>1021461.58</td>\n",
       "    </tr>\n",
       "    <tr>\n",
       "      <th>Virginia</th>\n",
       "      <td>1009027.82</td>\n",
       "    </tr>\n",
       "    <tr>\n",
       "      <th>Oklahoma</th>\n",
       "      <td>996220.92</td>\n",
       "    </tr>\n",
       "    <tr>\n",
       "      <th>Washington</th>\n",
       "      <td>994863.51</td>\n",
       "    </tr>\n",
       "    <tr>\n",
       "      <th>Georgia</th>\n",
       "      <td>988708.06</td>\n",
       "    </tr>\n",
       "    <tr>\n",
       "      <th>Indiana</th>\n",
       "      <td>980345.53</td>\n",
       "    </tr>\n",
       "    <tr>\n",
       "      <th>Pennsylvania</th>\n",
       "      <td>979018.40</td>\n",
       "    </tr>\n",
       "    <tr>\n",
       "      <th>Alabama</th>\n",
       "      <td>974686.32</td>\n",
       "    </tr>\n",
       "    <tr>\n",
       "      <th>Illinois</th>\n",
       "      <td>974058.97</td>\n",
       "    </tr>\n",
       "    <tr>\n",
       "      <th>Louisiana</th>\n",
       "      <td>965760.25</td>\n",
       "    </tr>\n",
       "    <tr>\n",
       "      <th>Nevada</th>\n",
       "      <td>965571.65</td>\n",
       "    </tr>\n",
       "    <tr>\n",
       "      <th>Tennessee</th>\n",
       "      <td>962034.79</td>\n",
       "    </tr>\n",
       "    <tr>\n",
       "      <th>Minnesota</th>\n",
       "      <td>960446.90</td>\n",
       "    </tr>\n",
       "    <tr>\n",
       "      <th>Wisconsin</th>\n",
       "      <td>960293.69</td>\n",
       "    </tr>\n",
       "    <tr>\n",
       "      <th>North Carolina</th>\n",
       "      <td>959069.53</td>\n",
       "    </tr>\n",
       "    <tr>\n",
       "      <th>Iowa</th>\n",
       "      <td>958326.67</td>\n",
       "    </tr>\n",
       "    <tr>\n",
       "      <th>West Virginia</th>\n",
       "      <td>956208.75</td>\n",
       "    </tr>\n",
       "    <tr>\n",
       "      <th>Michigan</th>\n",
       "      <td>955762.10</td>\n",
       "    </tr>\n",
       "    <tr>\n",
       "      <th>New Jersey</th>\n",
       "      <td>949132.92</td>\n",
       "    </tr>\n",
       "    <tr>\n",
       "      <th>Arkansas</th>\n",
       "      <td>945093.20</td>\n",
       "    </tr>\n",
       "    <tr>\n",
       "      <th>New Mexico</th>\n",
       "      <td>941271.88</td>\n",
       "    </tr>\n",
       "    <tr>\n",
       "      <th>Massachusetts</th>\n",
       "      <td>941206.10</td>\n",
       "    </tr>\n",
       "    <tr>\n",
       "      <th>Colorado</th>\n",
       "      <td>941015.24</td>\n",
       "    </tr>\n",
       "    <tr>\n",
       "      <th>Utah</th>\n",
       "      <td>939794.05</td>\n",
       "    </tr>\n",
       "    <tr>\n",
       "      <th>Connecticut</th>\n",
       "      <td>936879.80</td>\n",
       "    </tr>\n",
       "    <tr>\n",
       "      <th>South Carolina</th>\n",
       "      <td>935825.92</td>\n",
       "    </tr>\n",
       "    <tr>\n",
       "      <th>Arizona</th>\n",
       "      <td>933061.96</td>\n",
       "    </tr>\n",
       "    <tr>\n",
       "      <th>Missouri</th>\n",
       "      <td>928030.66</td>\n",
       "    </tr>\n",
       "    <tr>\n",
       "      <th>Maryland</th>\n",
       "      <td>927537.78</td>\n",
       "    </tr>\n",
       "    <tr>\n",
       "      <th>Kansas</th>\n",
       "      <td>926168.33</td>\n",
       "    </tr>\n",
       "    <tr>\n",
       "      <th>Idaho</th>\n",
       "      <td>924232.08</td>\n",
       "    </tr>\n",
       "    <tr>\n",
       "      <th>Kentucky</th>\n",
       "      <td>922690.29</td>\n",
       "    </tr>\n",
       "    <tr>\n",
       "      <th>Vermont</th>\n",
       "      <td>918529.74</td>\n",
       "    </tr>\n",
       "    <tr>\n",
       "      <th>Mississippi</th>\n",
       "      <td>916803.96</td>\n",
       "    </tr>\n",
       "    <tr>\n",
       "      <th>Delaware</th>\n",
       "      <td>914511.96</td>\n",
       "    </tr>\n",
       "    <tr>\n",
       "      <th>Rhode Island</th>\n",
       "      <td>910977.66</td>\n",
       "    </tr>\n",
       "    <tr>\n",
       "      <th>Oregon</th>\n",
       "      <td>910181.02</td>\n",
       "    </tr>\n",
       "    <tr>\n",
       "      <th>New Hampshire</th>\n",
       "      <td>908548.09</td>\n",
       "    </tr>\n",
       "    <tr>\n",
       "      <th>Nebraska</th>\n",
       "      <td>904385.89</td>\n",
       "    </tr>\n",
       "    <tr>\n",
       "      <th>Montana</th>\n",
       "      <td>897348.35</td>\n",
       "    </tr>\n",
       "    <tr>\n",
       "      <th>Alaska</th>\n",
       "      <td>896748.81</td>\n",
       "    </tr>\n",
       "    <tr>\n",
       "      <th>Hawaii</th>\n",
       "      <td>887193.65</td>\n",
       "    </tr>\n",
       "    <tr>\n",
       "      <th>South Dakota</th>\n",
       "      <td>883105.03</td>\n",
       "    </tr>\n",
       "    <tr>\n",
       "      <th>Maine</th>\n",
       "      <td>881449.26</td>\n",
       "    </tr>\n",
       "    <tr>\n",
       "      <th>Wyoming</th>\n",
       "      <td>871839.06</td>\n",
       "    </tr>\n",
       "    <tr>\n",
       "      <th>North Dakota</th>\n",
       "      <td>850056.22</td>\n",
       "    </tr>\n",
       "    <tr>\n",
       "      <th>District of Columbia</th>\n",
       "      <td>89926.21</td>\n",
       "    </tr>\n",
       "  </tbody>\n",
       "</table>\n",
       "</div>"
      ],
      "text/plain": [
       "                           cost\n",
       "state                          \n",
       "Texas                1238215.58\n",
       "California           1219721.54\n",
       "Florida              1143359.72\n",
       "New York             1074477.72\n",
       "Ohio                 1021461.58\n",
       "Virginia             1009027.82\n",
       "Oklahoma              996220.92\n",
       "Washington            994863.51\n",
       "Georgia               988708.06\n",
       "Indiana               980345.53\n",
       "Pennsylvania          979018.40\n",
       "Alabama               974686.32\n",
       "Illinois              974058.97\n",
       "Louisiana             965760.25\n",
       "Nevada                965571.65\n",
       "Tennessee             962034.79\n",
       "Minnesota             960446.90\n",
       "Wisconsin             960293.69\n",
       "North Carolina        959069.53\n",
       "Iowa                  958326.67\n",
       "West Virginia         956208.75\n",
       "Michigan              955762.10\n",
       "New Jersey            949132.92\n",
       "Arkansas              945093.20\n",
       "New Mexico            941271.88\n",
       "Massachusetts         941206.10\n",
       "Colorado              941015.24\n",
       "Utah                  939794.05\n",
       "Connecticut           936879.80\n",
       "South Carolina        935825.92\n",
       "Arizona               933061.96\n",
       "Missouri              928030.66\n",
       "Maryland              927537.78\n",
       "Kansas                926168.33\n",
       "Idaho                 924232.08\n",
       "Kentucky              922690.29\n",
       "Vermont               918529.74\n",
       "Mississippi           916803.96\n",
       "Delaware              914511.96\n",
       "Rhode Island          910977.66\n",
       "Oregon                910181.02\n",
       "New Hampshire         908548.09\n",
       "Nebraska              904385.89\n",
       "Montana               897348.35\n",
       "Alaska                896748.81\n",
       "Hawaii                887193.65\n",
       "South Dakota          883105.03\n",
       "Maine                 881449.26\n",
       "Wyoming               871839.06\n",
       "North Dakota          850056.22\n",
       "District of Columbia   89926.21"
      ]
     },
     "execution_count": 26,
     "metadata": {},
     "output_type": "execute_result"
    }
   ],
   "source": [
    "Sales_2020[['state','cost']].groupby('state').sum().sort_values('cost', ascending=False)"
   ]
  },
  {
   "cell_type": "markdown",
   "metadata": {},
   "source": [
    "**Answer 7b:** Tableau visualization of total sales from 2018-2020 by region below:"
   ]
  },
  {
   "cell_type": "markdown",
   "metadata": {},
   "source": [
    "<img src=\"Sales Map.png\" />"
   ]
  },
  {
   "cell_type": "markdown",
   "metadata": {},
   "source": [
    "## Question 8 (Code Below)\n",
    "\n",
    "Use any type of plot to show the distribution of prices for the following shoe colors ('metallic', 'bronze', 'animal print', 'yellow')"
   ]
  },
  {
   "cell_type": "markdown",
   "metadata": {},
   "source": [
    "**Answer 8:** Price distribution plots for metallic, bronze, animal print and yellow shoe colors below:"
   ]
  },
  {
   "cell_type": "code",
   "execution_count": 28,
   "metadata": {},
   "outputs": [
    {
     "data": {
      "image/png": "[encoded data removed]",
      "text/plain": [
       "<Figure size 432x288 with 1 Axes>"
      ]
     },
     "metadata": {
      "image/png": {
       "height": 281,
       "width": 397
      },
      "needs_background": "light"
     },
     "output_type": "display_data"
    }
   ],
   "source": [
    "Metallic_Sales = Shunique[(Shunique['color']==\"metallic\")]\n",
    "\n",
    "plt.hist(Metallic_Sales['prices'],bins=20)\n",
    "\n",
    "plt.title('Distribution of Prices for Metallic Shoes', size=14)\n",
    "\n",
    "plt.xlabel('Shoe Price ($)', size=12)\n",
    "\n",
    "plt.ylabel('Frequency', size=12)\n",
    "\n",
    "plt.grid(axis='y')"
   ]
  },
  {
   "cell_type": "code",
   "execution_count": 29,
   "metadata": {},
   "outputs": [
    {
     "data": {
      "image/png": "[encoded data removed]",
      "text/plain": [
       "<Figure size 432x288 with 1 Axes>"
      ]
     },
     "metadata": {
      "image/png": {
       "height": 281,
       "width": 397
      },
      "needs_background": "light"
     },
     "output_type": "display_data"
    }
   ],
   "source": [
    "Bronze_Sales = Shunique[(Shunique['color']==\"bronze\")]\n",
    "\n",
    "plt.hist(Bronze_Sales['prices'],bins=20)\n",
    "\n",
    "plt.title('Distribution of Prices for Bronze Shoes', size=14)\n",
    "\n",
    "plt.xlabel('Shoe Price ($)', size=12)\n",
    "\n",
    "plt.ylabel('Frequency', size=12)\n",
    "\n",
    "plt.grid(axis='y')"
   ]
  },
  {
   "cell_type": "code",
   "execution_count": 30,
   "metadata": {},
   "outputs": [
    {
     "data": {
      "image/png": "[encoded data removed]",
      "text/plain": [
       "<Figure size 432x288 with 1 Axes>"
      ]
     },
     "metadata": {
      "image/png": {
       "height": 281,
       "width": 397
      },
      "needs_background": "light"
     },
     "output_type": "display_data"
    }
   ],
   "source": [
    "Animal_Sales = Shunique[(Shunique['color']==\"animal print\")]\n",
    "\n",
    "plt.hist(Animal_Sales['prices'],bins=20)\n",
    "\n",
    "plt.title('Distribution of Prices for Animal Print Shoes', size=14)\n",
    "\n",
    "plt.xlabel('Shoe Price ($)', size=12)\n",
    "\n",
    "plt.ylabel('Frequency', size=12)\n",
    "\n",
    "plt.grid(axis='y')"
   ]
  },
  {
   "cell_type": "code",
   "execution_count": 31,
   "metadata": {},
   "outputs": [
    {
     "data": {
      "image/png": "[encoded data removed]",
      "text/plain": [
       "<Figure size 432x288 with 1 Axes>"
      ]
     },
     "metadata": {
      "image/png": {
       "height": 281,
       "width": 397
      },
      "needs_background": "light"
     },
     "output_type": "display_data"
    }
   ],
   "source": [
    "Yellow_Sales = Shunique[(Shunique['color']==\"yellow\")]\n",
    "\n",
    "plt.hist(Yellow_Sales['prices'],bins=20)\n",
    "\n",
    "plt.title('Distribution of Prices for Yellow Shoes', size=14)\n",
    "\n",
    "plt.xlabel('Shoe Price ($)', size=12)\n",
    "\n",
    "plt.ylabel('Frequency', size=12)\n",
    "\n",
    "plt.grid(axis='y')"
   ]
  },
  {
   "cell_type": "markdown",
   "metadata": {},
   "source": [
    "## Question 9 (Code Below)\n",
    "\n",
    "The Shunique marketing team is desperate to find the next big shoe hit.  They have asked for your help. \n",
    "\n",
    "**(9a)** Select a unique combination of shoe attributes then create a summary report with various statistics (ie Average sales price, city with most sales, quarter with most shoes sold, Customer name with highest purchase, etc)[it is your choice].  If the shoe combo doesn't exist in the dataset then choose another combination.\n",
    "\n",
    "Next quarter they are going to release an animal print, leather, strappy, basketball shoe.  "
   ]
  },
  {
   "cell_type": "markdown",
   "metadata": {},
   "source": [
    "**Answer 9 Description:** For this summary report, we will be looking at black, leather, seamless sandals. The code and summary statistics are included below."
   ]
  },
  {
   "cell_type": "markdown",
   "metadata": {},
   "source": [
    "**Answer 9 Report Breakdown:** By utilizing the various summary reports below, we were able to learn about Shunique's black, leather, seamless sandals. For the time period over the life of the data, Shunique has sold 756 pairs, which was \\\\$84,160.09 in revnue. During that same time, the average sales price was \\\\$69.61, Christopher Smith bought the most pairs - 7 of them; and the following cities tied for the most sales, with five pairs each: Van Nuys - CA, Cherylchester - WI, Williammouth - WV, Brandybury - NV, Brandonview - FL & Amberbury - ND.\n",
    "\n",
    "We decided to look at other data specifically during 2019 as that year had a full complete year of sales. When looking at that information, we learned that quarter 4 had the most shoes sold, with 187 pairs. Despite that quantity total however, quarter 2 had the highest average purchase value of \\\\$128.97. We also looked at total daily sales revenue. Our first distribution chart had mostly daily sales revenue at and below \\\\$500.00, so a second chart was made to examine the distribution more closely. Overall however, there appears to be little difference in the distribution of sales revenue between all four quarters. \n",
    "\n",
    "Based on the information we found, it would not seem that this particular shoe and attributes would be the next big shoe hit. Further R & D should be carried out on alternative designs and attributes."
   ]
  },
  {
   "cell_type": "markdown",
   "metadata": {},
   "source": [
    "**General Data Frame information:**"
   ]
  },
  {
   "cell_type": "code",
   "execution_count": 49,
   "metadata": {},
   "outputs": [
    {
     "data": {
      "text/html": [
       "<div>\n",
       "<style scoped>\n",
       "    .dataframe tbody tr th:only-of-type {\n",
       "        vertical-align: middle;\n",
       "    }\n",
       "\n",
       "    .dataframe tbody tr th {\n",
       "        vertical-align: top;\n",
       "    }\n",
       "\n",
       "    .dataframe thead th {\n",
       "        text-align: right;\n",
       "    }\n",
       "</style>\n",
       "<table border=\"1\" class=\"dataframe\">\n",
       "  <thead>\n",
       "    <tr style=\"text-align: right;\">\n",
       "      <th></th>\n",
       "      <th>first_name</th>\n",
       "      <th>last_name</th>\n",
       "      <th>email</th>\n",
       "      <th>city</th>\n",
       "      <th>address</th>\n",
       "      <th>state</th>\n",
       "      <th>transactionDate</th>\n",
       "      <th>transactionID</th>\n",
       "      <th>time</th>\n",
       "      <th>quantity</th>\n",
       "      <th>name</th>\n",
       "      <th>color</th>\n",
       "      <th>materials</th>\n",
       "      <th>prices</th>\n",
       "      <th>feature</th>\n",
       "      <th>category</th>\n",
       "      <th>cost</th>\n",
       "      <th>Date</th>\n",
       "    </tr>\n",
       "  </thead>\n",
       "  <tbody>\n",
       "    <tr>\n",
       "      <th>341927</th>\n",
       "      <td>Elias</td>\n",
       "      <td>Dodshun</td>\n",
       "      <td>edodshunc0@sohu.com</td>\n",
       "      <td>Anaheim</td>\n",
       "      <td>18 Grim Terrace</td>\n",
       "      <td>California</td>\n",
       "      <td>2019-01-31</td>\n",
       "      <td>9472ae5b-418d-4372-b3e3-c5232097ee70</td>\n",
       "      <td>6:32 PM</td>\n",
       "      <td>2</td>\n",
       "      <td>Adidas Women's Predator Absolado Instinct Fg L...</td>\n",
       "      <td>black</td>\n",
       "      <td>leather</td>\n",
       "      <td>75.00</td>\n",
       "      <td>seamless</td>\n",
       "      <td>sandals</td>\n",
       "      <td>150.00</td>\n",
       "      <td>2019-01-31</td>\n",
       "    </tr>\n",
       "    <tr>\n",
       "      <th>341928</th>\n",
       "      <td>Linnell</td>\n",
       "      <td>Gomby</td>\n",
       "      <td>lgombyd@huffingtonpost.com</td>\n",
       "      <td>San Antonio</td>\n",
       "      <td>01114 Veith Road</td>\n",
       "      <td>Texas</td>\n",
       "      <td>2020-06-04</td>\n",
       "      <td>d909afb4-f41e-4a97-85cc-dbcb9b8ad698</td>\n",
       "      <td>5:09 AM</td>\n",
       "      <td>2</td>\n",
       "      <td>Adidas Women's Predator Absolado Instinct Fg L...</td>\n",
       "      <td>black</td>\n",
       "      <td>leather</td>\n",
       "      <td>75.00</td>\n",
       "      <td>seamless</td>\n",
       "      <td>sandals</td>\n",
       "      <td>150.00</td>\n",
       "      <td>2020-06-04</td>\n",
       "    </tr>\n",
       "    <tr>\n",
       "      <th>341929</th>\n",
       "      <td>Stanislas</td>\n",
       "      <td>Carlisi</td>\n",
       "      <td>scarlisi96@techcrunch.com</td>\n",
       "      <td>Amarillo</td>\n",
       "      <td>006 Lakeland Court</td>\n",
       "      <td>Texas</td>\n",
       "      <td>2019-08-01</td>\n",
       "      <td>2bdd823a-8fc3-483e-a9dd-46e3b1a80620</td>\n",
       "      <td>3:11 AM</td>\n",
       "      <td>1</td>\n",
       "      <td>Adidas Women's Predator Absolado Instinct Fg L...</td>\n",
       "      <td>black</td>\n",
       "      <td>leather</td>\n",
       "      <td>75.00</td>\n",
       "      <td>seamless</td>\n",
       "      <td>sandals</td>\n",
       "      <td>75.00</td>\n",
       "      <td>2019-08-01</td>\n",
       "    </tr>\n",
       "    <tr>\n",
       "      <th>341930</th>\n",
       "      <td>Kalli</td>\n",
       "      <td>Paydon</td>\n",
       "      <td>kpaydonhz@bizjournals.com</td>\n",
       "      <td>Atlanta</td>\n",
       "      <td>53550 Novick Plaza</td>\n",
       "      <td>Georgia</td>\n",
       "      <td>2020-06-15</td>\n",
       "      <td>18de6587-f70d-49dc-a017-6142e195dd82</td>\n",
       "      <td>12:23 PM</td>\n",
       "      <td>1</td>\n",
       "      <td>Adidas Women's Predator Absolado Instinct Fg L...</td>\n",
       "      <td>black</td>\n",
       "      <td>leather</td>\n",
       "      <td>75.00</td>\n",
       "      <td>seamless</td>\n",
       "      <td>sandals</td>\n",
       "      <td>75.00</td>\n",
       "      <td>2020-06-15</td>\n",
       "    </tr>\n",
       "    <tr>\n",
       "      <th>341931</th>\n",
       "      <td>Lazaro</td>\n",
       "      <td>Baldini</td>\n",
       "      <td>lbaldini49@wired.com</td>\n",
       "      <td>Columbus</td>\n",
       "      <td>83 Clarendon Pass</td>\n",
       "      <td>Ohio</td>\n",
       "      <td>2020-04-30</td>\n",
       "      <td>1fac7aae-12ef-43bf-8b86-8a09421da5d4</td>\n",
       "      <td>12:15 AM</td>\n",
       "      <td>2</td>\n",
       "      <td>Adidas Women's Predator Absolado Instinct Fg L...</td>\n",
       "      <td>black</td>\n",
       "      <td>leather</td>\n",
       "      <td>75.00</td>\n",
       "      <td>seamless</td>\n",
       "      <td>sandals</td>\n",
       "      <td>150.00</td>\n",
       "      <td>2020-04-30</td>\n",
       "    </tr>\n",
       "  </tbody>\n",
       "</table>\n",
       "</div>"
      ],
      "text/plain": [
       "       first_name last_name                       email         city  \\\n",
       "341927      Elias   Dodshun         edodshunc0@sohu.com      Anaheim   \n",
       "341928    Linnell     Gomby  lgombyd@huffingtonpost.com  San Antonio   \n",
       "341929  Stanislas   Carlisi   scarlisi96@techcrunch.com     Amarillo   \n",
       "341930      Kalli    Paydon   kpaydonhz@bizjournals.com      Atlanta   \n",
       "341931     Lazaro   Baldini        lbaldini49@wired.com     Columbus   \n",
       "\n",
       "                   address       state transactionDate  \\\n",
       "341927     18 Grim Terrace  California      2019-01-31   \n",
       "341928    01114 Veith Road       Texas      2020-06-04   \n",
       "341929  006 Lakeland Court       Texas      2019-08-01   \n",
       "341930  53550 Novick Plaza     Georgia      2020-06-15   \n",
       "341931   83 Clarendon Pass        Ohio      2020-04-30   \n",
       "\n",
       "                               transactionID      time  quantity  \\\n",
       "341927  9472ae5b-418d-4372-b3e3-c5232097ee70   6:32 PM         2   \n",
       "341928  d909afb4-f41e-4a97-85cc-dbcb9b8ad698   5:09 AM         2   \n",
       "341929  2bdd823a-8fc3-483e-a9dd-46e3b1a80620   3:11 AM         1   \n",
       "341930  18de6587-f70d-49dc-a017-6142e195dd82  12:23 PM         1   \n",
       "341931  1fac7aae-12ef-43bf-8b86-8a09421da5d4  12:15 AM         2   \n",
       "\n",
       "                                                     name  color materials  \\\n",
       "341927  Adidas Women's Predator Absolado Instinct Fg L...  black   leather   \n",
       "341928  Adidas Women's Predator Absolado Instinct Fg L...  black   leather   \n",
       "341929  Adidas Women's Predator Absolado Instinct Fg L...  black   leather   \n",
       "341930  Adidas Women's Predator Absolado Instinct Fg L...  black   leather   \n",
       "341931  Adidas Women's Predator Absolado Instinct Fg L...  black   leather   \n",
       "\n",
       "        prices   feature category   cost        Date  \n",
       "341927   75.00  seamless  sandals 150.00  2019-01-31  \n",
       "341928   75.00  seamless  sandals 150.00  2020-06-04  \n",
       "341929   75.00  seamless  sandals  75.00  2019-08-01  \n",
       "341930   75.00  seamless  sandals  75.00  2020-06-15  \n",
       "341931   75.00  seamless  sandals 150.00  2020-04-30  "
      ]
     },
     "execution_count": 49,
     "metadata": {},
     "output_type": "execute_result"
    }
   ],
   "source": [
    "Unique_Shoe = Shunique[(Shunique['color']==\"black\") & (Shunique['materials']==\"leather\") & (Shunique['feature']==\"seamless\") & (Shunique['category']==\"sandals\")]\n",
    "\n",
    "Unique_Shoe.head()"
   ]
  },
  {
   "cell_type": "markdown",
   "metadata": {},
   "source": [
    "**Summary Statistics:**"
   ]
  },
  {
   "cell_type": "code",
   "execution_count": 50,
   "metadata": {},
   "outputs": [
    {
     "data": {
      "text/html": [
       "<div>\n",
       "<style scoped>\n",
       "    .dataframe tbody tr th:only-of-type {\n",
       "        vertical-align: middle;\n",
       "    }\n",
       "\n",
       "    .dataframe tbody tr th {\n",
       "        vertical-align: top;\n",
       "    }\n",
       "\n",
       "    .dataframe thead th {\n",
       "        text-align: right;\n",
       "    }\n",
       "</style>\n",
       "<table border=\"1\" class=\"dataframe\">\n",
       "  <thead>\n",
       "    <tr style=\"text-align: right;\">\n",
       "      <th></th>\n",
       "      <th>quantity</th>\n",
       "      <th>prices</th>\n",
       "      <th>cost</th>\n",
       "    </tr>\n",
       "  </thead>\n",
       "  <tbody>\n",
       "    <tr>\n",
       "      <th>count</th>\n",
       "      <td>756.00</td>\n",
       "      <td>756.00</td>\n",
       "      <td>756.00</td>\n",
       "    </tr>\n",
       "    <tr>\n",
       "      <th>mean</th>\n",
       "      <td>1.60</td>\n",
       "      <td>69.61</td>\n",
       "      <td>111.32</td>\n",
       "    </tr>\n",
       "    <tr>\n",
       "      <th>std</th>\n",
       "      <td>0.95</td>\n",
       "      <td>37.92</td>\n",
       "      <td>94.98</td>\n",
       "    </tr>\n",
       "    <tr>\n",
       "      <th>min</th>\n",
       "      <td>1.00</td>\n",
       "      <td>23.99</td>\n",
       "      <td>23.99</td>\n",
       "    </tr>\n",
       "    <tr>\n",
       "      <th>25%</th>\n",
       "      <td>1.00</td>\n",
       "      <td>44.95</td>\n",
       "      <td>49.00</td>\n",
       "    </tr>\n",
       "    <tr>\n",
       "      <th>50%</th>\n",
       "      <td>1.00</td>\n",
       "      <td>57.20</td>\n",
       "      <td>75.00</td>\n",
       "    </tr>\n",
       "    <tr>\n",
       "      <th>75%</th>\n",
       "      <td>2.00</td>\n",
       "      <td>106.94</td>\n",
       "      <td>139.95</td>\n",
       "    </tr>\n",
       "    <tr>\n",
       "      <th>max</th>\n",
       "      <td>5.00</td>\n",
       "      <td>139.95</td>\n",
       "      <td>559.80</td>\n",
       "    </tr>\n",
       "  </tbody>\n",
       "</table>\n",
       "</div>"
      ],
      "text/plain": [
       "       quantity  prices   cost\n",
       "count    756.00  756.00 756.00\n",
       "mean       1.60   69.61 111.32\n",
       "std        0.95   37.92  94.98\n",
       "min        1.00   23.99  23.99\n",
       "25%        1.00   44.95  49.00\n",
       "50%        1.00   57.20  75.00\n",
       "75%        2.00  106.94 139.95\n",
       "max        5.00  139.95 559.80"
      ]
     },
     "execution_count": 50,
     "metadata": {},
     "output_type": "execute_result"
    }
   ],
   "source": [
    "Unique_Shoe.describe()"
   ]
  },
  {
   "cell_type": "markdown",
   "metadata": {},
   "source": [
    "**Total Sales Between 2018-2020:**"
   ]
  },
  {
   "cell_type": "code",
   "execution_count": 52,
   "metadata": {},
   "outputs": [
    {
     "data": {
      "text/plain": [
       "84160.09"
      ]
     },
     "execution_count": 52,
     "metadata": {},
     "output_type": "execute_result"
    }
   ],
   "source": [
    "Unique_Shoe['cost'].sum()"
   ]
  },
  {
   "cell_type": "markdown",
   "metadata": {},
   "source": [
    "**Average Sale Price Between 2018-2020:**"
   ]
  },
  {
   "cell_type": "code",
   "execution_count": 53,
   "metadata": {},
   "outputs": [
    {
     "data": {
      "text/plain": [
       "69.61117724867725"
      ]
     },
     "execution_count": 53,
     "metadata": {},
     "output_type": "execute_result"
    }
   ],
   "source": [
    "Average_Sale_Price = Unique_Shoe['prices'].sum()/Unique_Shoe['first_name'].count()\n",
    "\n",
    "Average_Sale_Price"
   ]
  },
  {
   "cell_type": "markdown",
   "metadata": {},
   "source": [
    "**2019 Average Purchase Value By Quarter:**"
   ]
  },
  {
   "cell_type": "code",
   "execution_count": 62,
   "metadata": {},
   "outputs": [],
   "source": [
    "Unique_Sales_2019 = Unique_Shoe[(Unique_Shoe['transactionDate'] >= '1/1/2019') & (Unique_Shoe['transactionDate'] <= '12/31/2019')]\n",
    "\n",
    "Unique_Q1_2019 = Unique_Sales_2019[Unique_Sales_2019['transactionDate'].dt.quarter == 1]\n",
    "\n",
    "Unique_Q2_2019 = Unique_Sales_2019[Unique_Sales_2019['transactionDate'].dt.quarter == 2]\n",
    "\n",
    "Unique_Q3_2019 = Unique_Sales_2019[Unique_Sales_2019['transactionDate'].dt.quarter == 3]\n",
    "\n",
    "Unique_Q4_2019 = Unique_Sales_2019[Unique_Sales_2019['transactionDate'].dt.quarter == 4]"
   ]
  },
  {
   "cell_type": "code",
   "execution_count": 64,
   "metadata": {},
   "outputs": [],
   "source": [
    "Unique_Q1_2019_APV = Unique_Q1_2019['cost'].sum()/Unique_Q1_2019['first_name'].count()\n",
    "\n",
    "Unique_Q2_2019_APV = Unique_Q2_2019['cost'].sum()/Unique_Q2_2019['first_name'].count()\n",
    "\n",
    "Unique_Q3_2019_APV = Unique_Q3_2019['cost'].sum()/Unique_Q3_2019['first_name'].count()\n",
    "\n",
    "Unique_Q4_2019_APV = Unique_Q4_2019['cost'].sum()/Unique_Q4_2019['first_name'].count()"
   ]
  },
  {
   "cell_type": "code",
   "execution_count": 65,
   "metadata": {},
   "outputs": [
    {
     "data": {
      "text/plain": [
       "119.13357798165138"
      ]
     },
     "execution_count": 65,
     "metadata": {},
     "output_type": "execute_result"
    }
   ],
   "source": [
    "Unique_Q1_2019_APV"
   ]
  },
  {
   "cell_type": "code",
   "execution_count": 66,
   "metadata": {},
   "outputs": [
    {
     "data": {
      "text/plain": [
       "128.97586206896554"
      ]
     },
     "execution_count": 66,
     "metadata": {},
     "output_type": "execute_result"
    }
   ],
   "source": [
    "Unique_Q2_2019_APV"
   ]
  },
  {
   "cell_type": "code",
   "execution_count": 67,
   "metadata": {},
   "outputs": [
    {
     "data": {
      "text/plain": [
       "108.35960000000001"
      ]
     },
     "execution_count": 67,
     "metadata": {},
     "output_type": "execute_result"
    }
   ],
   "source": [
    "Unique_Q3_2019_APV"
   ]
  },
  {
   "cell_type": "code",
   "execution_count": 68,
   "metadata": {},
   "outputs": [
    {
     "data": {
      "text/plain": [
       "114.44834951456313"
      ]
     },
     "execution_count": 68,
     "metadata": {},
     "output_type": "execute_result"
    }
   ],
   "source": [
    "Unique_Q4_2019_APV"
   ]
  },
  {
   "cell_type": "markdown",
   "metadata": {},
   "source": [
    "**2019 Quarter With Most Shoes Sold:**"
   ]
  },
  {
   "cell_type": "code",
   "execution_count": 73,
   "metadata": {},
   "outputs": [
    {
     "data": {
      "text/plain": [
       "170"
      ]
     },
     "execution_count": 73,
     "metadata": {},
     "output_type": "execute_result"
    }
   ],
   "source": [
    "Unique_Q1_2019['quantity'].sum()"
   ]
  },
  {
   "cell_type": "code",
   "execution_count": 74,
   "metadata": {},
   "outputs": [
    {
     "data": {
      "text/plain": [
       "142"
      ]
     },
     "execution_count": 74,
     "metadata": {},
     "output_type": "execute_result"
    }
   ],
   "source": [
    "Unique_Q2_2019['quantity'].sum()"
   ]
  },
  {
   "cell_type": "code",
   "execution_count": 75,
   "metadata": {},
   "outputs": [
    {
     "data": {
      "text/plain": [
       "150"
      ]
     },
     "execution_count": 75,
     "metadata": {},
     "output_type": "execute_result"
    }
   ],
   "source": [
    "Unique_Q3_2019['quantity'].sum()"
   ]
  },
  {
   "cell_type": "code",
   "execution_count": 76,
   "metadata": {},
   "outputs": [
    {
     "data": {
      "text/plain": [
       "187"
      ]
     },
     "execution_count": 76,
     "metadata": {},
     "output_type": "execute_result"
    }
   ],
   "source": [
    "Unique_Q4_2019['quantity'].sum()"
   ]
  },
  {
   "cell_type": "markdown",
   "metadata": {},
   "source": [
    "**City With Most Sales:**"
   ]
  },
  {
   "cell_type": "code",
   "execution_count": 80,
   "metadata": {},
   "outputs": [
    {
     "data": {
      "text/html": [
       "<div>\n",
       "<style scoped>\n",
       "    .dataframe tbody tr th:only-of-type {\n",
       "        vertical-align: middle;\n",
       "    }\n",
       "\n",
       "    .dataframe tbody tr th {\n",
       "        vertical-align: top;\n",
       "    }\n",
       "\n",
       "    .dataframe thead th {\n",
       "        text-align: right;\n",
       "    }\n",
       "</style>\n",
       "<table border=\"1\" class=\"dataframe\">\n",
       "  <thead>\n",
       "    <tr style=\"text-align: right;\">\n",
       "      <th></th>\n",
       "      <th></th>\n",
       "      <th>quantity</th>\n",
       "      <th>prices</th>\n",
       "      <th>cost</th>\n",
       "    </tr>\n",
       "    <tr>\n",
       "      <th>city</th>\n",
       "      <th>state</th>\n",
       "      <th></th>\n",
       "      <th></th>\n",
       "      <th></th>\n",
       "    </tr>\n",
       "  </thead>\n",
       "  <tbody>\n",
       "    <tr>\n",
       "      <th>Van Nuys</th>\n",
       "      <th>California</th>\n",
       "      <td>5</td>\n",
       "      <td>106.94</td>\n",
       "      <td>534.70</td>\n",
       "    </tr>\n",
       "    <tr>\n",
       "      <th>Cherylchester</th>\n",
       "      <th>Wisconsin</th>\n",
       "      <td>5</td>\n",
       "      <td>75.00</td>\n",
       "      <td>375.00</td>\n",
       "    </tr>\n",
       "    <tr>\n",
       "      <th>Williammouth</th>\n",
       "      <th>West Virginia</th>\n",
       "      <td>5</td>\n",
       "      <td>23.99</td>\n",
       "      <td>119.95</td>\n",
       "    </tr>\n",
       "    <tr>\n",
       "      <th>Brandybury</th>\n",
       "      <th>Nevada</th>\n",
       "      <td>5</td>\n",
       "      <td>57.20</td>\n",
       "      <td>286.00</td>\n",
       "    </tr>\n",
       "    <tr>\n",
       "      <th>Brandonview</th>\n",
       "      <th>Florida</th>\n",
       "      <td>5</td>\n",
       "      <td>44.95</td>\n",
       "      <td>224.75</td>\n",
       "    </tr>\n",
       "    <tr>\n",
       "      <th>Amberbury</th>\n",
       "      <th>North Dakota</th>\n",
       "      <td>5</td>\n",
       "      <td>57.20</td>\n",
       "      <td>286.00</td>\n",
       "    </tr>\n",
       "    <tr>\n",
       "      <th>South Nicholasview</th>\n",
       "      <th>Indiana</th>\n",
       "      <td>4</td>\n",
       "      <td>49.00</td>\n",
       "      <td>196.00</td>\n",
       "    </tr>\n",
       "    <tr>\n",
       "      <th>Johnland</th>\n",
       "      <th>Oregon</th>\n",
       "      <td>4</td>\n",
       "      <td>44.95</td>\n",
       "      <td>179.80</td>\n",
       "    </tr>\n",
       "    <tr>\n",
       "      <th>Jennaville</th>\n",
       "      <th>Colorado</th>\n",
       "      <td>4</td>\n",
       "      <td>139.95</td>\n",
       "      <td>559.80</td>\n",
       "    </tr>\n",
       "    <tr>\n",
       "      <th>South James</th>\n",
       "      <th>Pennsylvania</th>\n",
       "      <td>4</td>\n",
       "      <td>75.00</td>\n",
       "      <td>300.00</td>\n",
       "    </tr>\n",
       "  </tbody>\n",
       "</table>\n",
       "</div>"
      ],
      "text/plain": [
       "                                  quantity  prices   cost\n",
       "city               state                                 \n",
       "Van Nuys           California            5  106.94 534.70\n",
       "Cherylchester      Wisconsin             5   75.00 375.00\n",
       "Williammouth       West Virginia         5   23.99 119.95\n",
       "Brandybury         Nevada                5   57.20 286.00\n",
       "Brandonview        Florida               5   44.95 224.75\n",
       "Amberbury          North Dakota          5   57.20 286.00\n",
       "South Nicholasview Indiana               4   49.00 196.00\n",
       "Johnland           Oregon                4   44.95 179.80\n",
       "Jennaville         Colorado              4  139.95 559.80\n",
       "South James        Pennsylvania          4   75.00 300.00"
      ]
     },
     "execution_count": 80,
     "metadata": {},
     "output_type": "execute_result"
    }
   ],
   "source": [
    "Unique_Shoe.groupby(by=['city', 'state']).sum().sort_values('quantity', ascending=False)[:10]"
   ]
  },
  {
   "cell_type": "markdown",
   "metadata": {},
   "source": [
    "**Customer Name With Most Purchases:**"
   ]
  },
  {
   "cell_type": "code",
   "execution_count": 77,
   "metadata": {},
   "outputs": [
    {
     "data": {
      "text/html": [
       "<div>\n",
       "<style scoped>\n",
       "    .dataframe tbody tr th:only-of-type {\n",
       "        vertical-align: middle;\n",
       "    }\n",
       "\n",
       "    .dataframe tbody tr th {\n",
       "        vertical-align: top;\n",
       "    }\n",
       "\n",
       "    .dataframe thead th {\n",
       "        text-align: right;\n",
       "    }\n",
       "</style>\n",
       "<table border=\"1\" class=\"dataframe\">\n",
       "  <thead>\n",
       "    <tr style=\"text-align: right;\">\n",
       "      <th></th>\n",
       "      <th></th>\n",
       "      <th>quantity</th>\n",
       "      <th>prices</th>\n",
       "      <th>cost</th>\n",
       "    </tr>\n",
       "    <tr>\n",
       "      <th>first_name</th>\n",
       "      <th>last_name</th>\n",
       "      <th></th>\n",
       "      <th></th>\n",
       "      <th></th>\n",
       "    </tr>\n",
       "  </thead>\n",
       "  <tbody>\n",
       "    <tr>\n",
       "      <th>Christopher</th>\n",
       "      <th>Smith</th>\n",
       "      <td>7</td>\n",
       "      <td>119.95</td>\n",
       "      <td>404.80</td>\n",
       "    </tr>\n",
       "    <tr>\n",
       "      <th>Heather</th>\n",
       "      <th>Beltran</th>\n",
       "      <td>5</td>\n",
       "      <td>75.00</td>\n",
       "      <td>375.00</td>\n",
       "    </tr>\n",
       "    <tr>\n",
       "      <th>Susan</th>\n",
       "      <th>Jones</th>\n",
       "      <td>5</td>\n",
       "      <td>279.90</td>\n",
       "      <td>699.75</td>\n",
       "    </tr>\n",
       "    <tr>\n",
       "      <th>Cleve</th>\n",
       "      <th>Buncom</th>\n",
       "      <td>5</td>\n",
       "      <td>106.94</td>\n",
       "      <td>534.70</td>\n",
       "    </tr>\n",
       "    <tr>\n",
       "      <th>Gary</th>\n",
       "      <th>Jones</th>\n",
       "      <td>5</td>\n",
       "      <td>57.20</td>\n",
       "      <td>286.00</td>\n",
       "    </tr>\n",
       "    <tr>\n",
       "      <th>Emily</th>\n",
       "      <th>Williams</th>\n",
       "      <td>5</td>\n",
       "      <td>23.99</td>\n",
       "      <td>119.95</td>\n",
       "    </tr>\n",
       "    <tr>\n",
       "      <th>Christina</th>\n",
       "      <th>Williams</th>\n",
       "      <td>5</td>\n",
       "      <td>57.20</td>\n",
       "      <td>286.00</td>\n",
       "    </tr>\n",
       "    <tr>\n",
       "      <th>Michelle</th>\n",
       "      <th>Johnson</th>\n",
       "      <td>5</td>\n",
       "      <td>197.15</td>\n",
       "      <td>368.75</td>\n",
       "    </tr>\n",
       "    <tr>\n",
       "      <th>Tracy</th>\n",
       "      <th>Scott</th>\n",
       "      <td>5</td>\n",
       "      <td>44.95</td>\n",
       "      <td>224.75</td>\n",
       "    </tr>\n",
       "    <tr>\n",
       "      <th>Michele</th>\n",
       "      <th>Jones</th>\n",
       "      <td>4</td>\n",
       "      <td>23.99</td>\n",
       "      <td>95.96</td>\n",
       "    </tr>\n",
       "  </tbody>\n",
       "</table>\n",
       "</div>"
      ],
      "text/plain": [
       "                       quantity  prices   cost\n",
       "first_name  last_name                         \n",
       "Christopher Smith             7  119.95 404.80\n",
       "Heather     Beltran           5   75.00 375.00\n",
       "Susan       Jones             5  279.90 699.75\n",
       "Cleve       Buncom            5  106.94 534.70\n",
       "Gary        Jones             5   57.20 286.00\n",
       "Emily       Williams          5   23.99 119.95\n",
       "Christina   Williams          5   57.20 286.00\n",
       "Michelle    Johnson           5  197.15 368.75\n",
       "Tracy       Scott             5   44.95 224.75\n",
       "Michele     Jones             4   23.99  95.96"
      ]
     },
     "execution_count": 77,
     "metadata": {},
     "output_type": "execute_result"
    }
   ],
   "source": [
    "Unique_Shoe.groupby(by=['first_name', 'last_name']).sum().sort_values('quantity', ascending=False)[:10]"
   ]
  },
  {
   "cell_type": "markdown",
   "metadata": {},
   "source": [
    "**2019 Distribution of Daily Sales Totals By Quarter:**"
   ]
  },
  {
   "cell_type": "code",
   "execution_count": 81,
   "metadata": {},
   "outputs": [],
   "source": [
    "Unique_Range_1 = Unique_Shoe[(Unique_Shoe['transactionDate'] >='1/1/2019') & (Unique_Shoe['transactionDate'] <= '3/31/2019')]\n",
    "\n",
    "Unique_Range_2 = Unique_Shoe[(Unique_Shoe['transactionDate'] >='4/1/2019') & (Unique_Shoe['transactionDate'] <= '6/30/2019')]\n",
    "\n",
    "Unique_Range_3 = Unique_Shoe[(Unique_Shoe['transactionDate'] >='7/1/2019') & (Unique_Shoe['transactionDate'] <= '9/30/2019')]\n",
    "\n",
    "Unique_Range_4 = Unique_Shoe[(Unique_Shoe['transactionDate'] >='10/1/2019') & (Unique_Shoe['transactionDate'] <= '12/31/2019')]\n",
    "\n",
    "Unique_Range_One = Unique_Range_1.set_index('transactionDate').groupby(pd.Grouper(freq='D')).sum()\n",
    "\n",
    "Unique_Range_Two = Unique_Range_2.set_index('transactionDate').groupby(pd.Grouper(freq='D')).sum()\n",
    "\n",
    "Unique_Range_Three = Unique_Range_3.set_index('transactionDate').groupby(pd.Grouper(freq='D')).sum()\n",
    "\n",
    "Unique_Range_Four = Unique_Range_4.set_index('transactionDate').groupby(pd.Grouper(freq='D')).sum()"
   ]
  },
  {
   "cell_type": "code",
   "execution_count": 83,
   "metadata": {},
   "outputs": [
    {
     "data": {
      "image/png": "[encoded data removed]",
      "text/plain": [
       "<Figure size 432x288 with 1 Axes>"
      ]
     },
     "metadata": {
      "image/png": {
       "height": 277,
       "width": 382
      },
      "needs_background": "light"
     },
     "output_type": "display_data"
    }
   ],
   "source": [
    "g = sns.distplot(Unique_Range_One['cost'], label=\"Q1\", kde=False)\n",
    "\n",
    "sns.distplot(Unique_Range_Two['cost'], label=\"Q2\", kde=False)\n",
    "\n",
    "sns.distplot(Unique_Range_Three['cost'], label=\"Q3\", kde=False)\n",
    "\n",
    "sns.distplot(Unique_Range_Four['cost'], label=\"Q4\", kde=False)\n",
    "\n",
    "g.set(xlabel='Sales ($)', ylabel='Count', title='Distribution of Daily Sales Totals By Quarter')\n",
    "\n",
    "plt.legend()\n",
    "\n",
    "plt.show()"
   ]
  },
  {
   "cell_type": "code",
   "execution_count": 84,
   "metadata": {},
   "outputs": [
    {
     "name": "stderr",
     "output_type": "stream",
     "text": [
      "/Users/danielbachman/opt/anaconda3/lib/python3.8/site-packages/seaborn/distributions.py:2551: FutureWarning: `distplot` is a deprecated function and will be removed in a future version. Please adapt your code to use either `displot` (a figure-level function with similar flexibility) or `histplot` (an axes-level function for histograms).\n",
      "  warnings.warn(msg, FutureWarning)\n",
      "/Users/danielbachman/opt/anaconda3/lib/python3.8/site-packages/seaborn/distributions.py:2551: FutureWarning: `distplot` is a deprecated function and will be removed in a future version. Please adapt your code to use either `displot` (a figure-level function with similar flexibility) or `histplot` (an axes-level function for histograms).\n",
      "  warnings.warn(msg, FutureWarning)\n",
      "/Users/danielbachman/opt/anaconda3/lib/python3.8/site-packages/seaborn/distributions.py:2551: FutureWarning: `distplot` is a deprecated function and will be removed in a future version. Please adapt your code to use either `displot` (a figure-level function with similar flexibility) or `histplot` (an axes-level function for histograms).\n",
      "  warnings.warn(msg, FutureWarning)\n",
      "/Users/danielbachman/opt/anaconda3/lib/python3.8/site-packages/seaborn/distributions.py:2551: FutureWarning: `distplot` is a deprecated function and will be removed in a future version. Please adapt your code to use either `displot` (a figure-level function with similar flexibility) or `histplot` (an axes-level function for histograms).\n",
      "  warnings.warn(msg, FutureWarning)\n"
     ]
    },
    {
     "data": {
      "image/png": "[encoded data removed]",
      "text/plain": [
       "<Figure size 432x288 with 1 Axes>"
      ]
     },
     "metadata": {
      "image/png": {
       "height": 277,
       "width": 382
      },
      "needs_background": "light"
     },
     "output_type": "display_data"
    }
   ],
   "source": [
    "g = sns.distplot(Unique_Range_One['cost'][Unique_Range_One['cost'] < 500], label=\"Q1\", kde=False)\n",
    "\n",
    "sns.distplot(Unique_Range_Two['cost'][Unique_Range_Two['cost'] < 500], label=\"Q2\", kde=False)\n",
    "\n",
    "sns.distplot(Unique_Range_Three['cost'][Unique_Range_Three['cost'] < 500], label=\"Q3\", kde=False)\n",
    "\n",
    "sns.distplot(Unique_Range_Four['cost'][Unique_Range_Four['cost'] < 500], label=\"Q4\", kde=False)\n",
    "\n",
    "g.set(xlabel='Sales ($)', ylabel='Count', title='Distribution of Daily Sales Totals By Quarter')\n",
    "\n",
    "plt.legend()\n",
    "\n",
    "plt.show()"
   ]
  },
  {
   "cell_type": "markdown",
   "metadata": {},
   "source": [
    "## Question 10 (Code Below)\n",
    "\n",
    "**(10a)** Are there opportunities to grow sales?  \n",
    "\n",
    "**(10b)** Are there products that you would discontinue? \n",
    "\n",
    "**(10c)** What other datasets would you use to complement the transaction data and why?"
   ]
  },
  {
   "cell_type": "markdown",
   "metadata": {},
   "source": [
    "**Answer 10a:** As evidenced by various data research within this report, there are opportunities to grow sales. \n",
    "\n",
    "Referring to section four, sales in 2019 were fairly consistent for the first three quarters, but much higher during quarter four/the holiday season. Utilizing this information, and digging into it further, would yield more clues about attributes, prices and consumers that tell a story about the data.\n",
    "\n",
    "With regards to section eleven, it was apparent that the sales team did increase sales year-over-year, while also delivering days with higher daily sales in 2019 than 2018. There is opportunities to grow sales through their efforts.\n",
    "\n",
    "Lastly, when considering high revenue SKU's from section one, compared against low revenue SKU's from answer 10b below, it is evident that stylish styles and attributes (In line with the original concept by Mr. Flatbush) perform better than preowned/low cost styles. Continuing research on high revenue styles, along with comparisons against regional areas, will provide guidance for growing sales. "
   ]
  },
  {
   "cell_type": "markdown",
   "metadata": {},
   "source": [
    "**Answer 10b:** We looked across the board to see what products should be discontinued; this included looking at poor performing SKU's by name, color, material, feature and category.\n",
    "\n",
    "As demonstrated by the first data frame, we have multiple SKUs, including many that are pre owned, that have brought in less than \\\\$200.00 in revenue for the full time period of data. These should be discontinued.\n",
    "\n",
    "With consideration to the materials category, we see that felt has only brough in \\\\$3,488.71 worth of revenue for the time period, where as the next closest material, satin, is just under \\\\$60,000.00 in revenue. Products made with felt should be considered for discontinuation.\n",
    "\n",
    "When observing color, features, or categories, those filtering elements are not as clear cut as we see the lowest revenue in the hundreds of thousands range. These were not as useful in determining products or product features that should be discontinued. "
   ]
  },
  {
   "cell_type": "code",
   "execution_count": 86,
   "metadata": {},
   "outputs": [
    {
     "data": {
      "text/html": [
       "<div>\n",
       "<style scoped>\n",
       "    .dataframe tbody tr th:only-of-type {\n",
       "        vertical-align: middle;\n",
       "    }\n",
       "\n",
       "    .dataframe tbody tr th {\n",
       "        vertical-align: top;\n",
       "    }\n",
       "\n",
       "    .dataframe thead th {\n",
       "        text-align: right;\n",
       "    }\n",
       "</style>\n",
       "<table border=\"1\" class=\"dataframe\">\n",
       "  <thead>\n",
       "    <tr style=\"text-align: right;\">\n",
       "      <th></th>\n",
       "      <th>quantity</th>\n",
       "      <th>prices</th>\n",
       "      <th>cost</th>\n",
       "    </tr>\n",
       "    <tr>\n",
       "      <th>name</th>\n",
       "      <th></th>\n",
       "      <th></th>\n",
       "      <th></th>\n",
       "    </tr>\n",
       "  </thead>\n",
       "  <tbody>\n",
       "    <tr>\n",
       "      <th>Guess Ortena2 Bronze/black Ankle Booties Boots Size 6.5</th>\n",
       "      <td>181</td>\n",
       "      <td>0.99</td>\n",
       "      <td>1.81</td>\n",
       "    </tr>\n",
       "    <tr>\n",
       "      <th>Bcbgeneration Anais Women Us 6.5 Tan Thong Sandal Pre Owned Blemish 1665</th>\n",
       "      <td>140</td>\n",
       "      <td>93.06</td>\n",
       "      <td>138.60</td>\n",
       "    </tr>\n",
       "    <tr>\n",
       "      <th>Trotters 1650 Womens Black Patent Leather Heels Pumps Shoes 7 Wide (c,d,w) Bhfo</th>\n",
       "      <td>148</td>\n",
       "      <td>89.10</td>\n",
       "      <td>146.52</td>\n",
       "    </tr>\n",
       "    <tr>\n",
       "      <th>Kenneth Cole Reactio Slim Shake Women Us 7.5 Black Pre Owned 1654</th>\n",
       "      <td>154</td>\n",
       "      <td>102.96</td>\n",
       "      <td>152.46</td>\n",
       "    </tr>\n",
       "    <tr>\n",
       "      <th>Kensie Veronica Women Us 8.5 Blue Sneakers Pre Owned 1906</th>\n",
       "      <td>167</td>\n",
       "      <td>101.97</td>\n",
       "      <td>165.33</td>\n",
       "    </tr>\n",
       "    <tr>\n",
       "      <th>Bella Vita Sangria Women Us 7.5 N/s White Wedge Sandal Blemish 1903</th>\n",
       "      <td>176</td>\n",
       "      <td>113.85</td>\n",
       "      <td>174.24</td>\n",
       "    </tr>\n",
       "    <tr>\n",
       "      <th>Nina Falana-vg Women Us 6 Silver Sandals Pre Owned 1904</th>\n",
       "      <td>182</td>\n",
       "      <td>114.84</td>\n",
       "      <td>180.18</td>\n",
       "    </tr>\n",
       "    <tr>\n",
       "      <th>Mix No 6 Sarti Women Us 8 Green Platform Heel Pre Owned 1650</th>\n",
       "      <td>186</td>\n",
       "      <td>118.80</td>\n",
       "      <td>184.14</td>\n",
       "    </tr>\n",
       "    <tr>\n",
       "      <th>Alfani Hannia Women Us 8.5 Gold Thong Sandal Pre Owned 1904</th>\n",
       "      <td>193</td>\n",
       "      <td>115.83</td>\n",
       "      <td>191.07</td>\n",
       "    </tr>\n",
       "    <tr>\n",
       "      <th>Bandolino Adecyn Women Us 7 Black Wedge Sandal Pre Owned 1904</th>\n",
       "      <td>194</td>\n",
       "      <td>117.81</td>\n",
       "      <td>192.06</td>\n",
       "    </tr>\n",
       "  </tbody>\n",
       "</table>\n",
       "</div>"
      ],
      "text/plain": [
       "                                                    quantity  prices   cost\n",
       "name                                                                       \n",
       "Guess Ortena2 Bronze/black Ankle Booties Boots ...       181    0.99   1.81\n",
       "Bcbgeneration Anais Women Us 6.5 Tan Thong Sand...       140   93.06 138.60\n",
       "Trotters 1650 Womens Black Patent Leather Heels...       148   89.10 146.52\n",
       "Kenneth Cole Reactio Slim Shake Women Us 7.5 Bl...       154  102.96 152.46\n",
       "Kensie Veronica Women Us 8.5 Blue Sneakers Pre ...       167  101.97 165.33\n",
       "Bella Vita Sangria Women Us 7.5 N/s White Wedge...       176  113.85 174.24\n",
       "Nina Falana-vg Women Us 6 Silver Sandals Pre Ow...       182  114.84 180.18\n",
       "Mix No 6 Sarti Women Us 8 Green Platform Heel P...       186  118.80 184.14\n",
       "Alfani Hannia Women Us 8.5 Gold Thong Sandal Pr...       193  115.83 191.07\n",
       "Bandolino Adecyn Women Us 7 Black Wedge Sandal ...       194  117.81 192.06"
      ]
     },
     "execution_count": 86,
     "metadata": {},
     "output_type": "execute_result"
    }
   ],
   "source": [
    "Shunique.groupby(by='name').sum().sort_values('cost', ascending=True)[:10]"
   ]
  },
  {
   "cell_type": "code",
   "execution_count": 88,
   "metadata": {},
   "outputs": [
    {
     "data": {
      "text/html": [
       "<div>\n",
       "<style scoped>\n",
       "    .dataframe tbody tr th:only-of-type {\n",
       "        vertical-align: middle;\n",
       "    }\n",
       "\n",
       "    .dataframe tbody tr th {\n",
       "        vertical-align: top;\n",
       "    }\n",
       "\n",
       "    .dataframe thead th {\n",
       "        text-align: right;\n",
       "    }\n",
       "</style>\n",
       "<table border=\"1\" class=\"dataframe\">\n",
       "  <thead>\n",
       "    <tr style=\"text-align: right;\">\n",
       "      <th></th>\n",
       "      <th>quantity</th>\n",
       "      <th>prices</th>\n",
       "      <th>cost</th>\n",
       "    </tr>\n",
       "    <tr>\n",
       "      <th>color</th>\n",
       "      <th></th>\n",
       "      <th></th>\n",
       "      <th></th>\n",
       "    </tr>\n",
       "  </thead>\n",
       "  <tbody>\n",
       "    <tr>\n",
       "      <th>unknown</th>\n",
       "      <td>2160</td>\n",
       "      <td>96829.48</td>\n",
       "      <td>156715.63</td>\n",
       "    </tr>\n",
       "    <tr>\n",
       "      <th>clear</th>\n",
       "      <td>2301</td>\n",
       "      <td>164237.18</td>\n",
       "      <td>256104.94</td>\n",
       "    </tr>\n",
       "    <tr>\n",
       "      <th>mahogany</th>\n",
       "      <td>3835</td>\n",
       "      <td>204577.23</td>\n",
       "      <td>328054.59</td>\n",
       "    </tr>\n",
       "    <tr>\n",
       "      <th>coral</th>\n",
       "      <td>5756</td>\n",
       "      <td>389151.85</td>\n",
       "      <td>620338.57</td>\n",
       "    </tr>\n",
       "    <tr>\n",
       "      <th>khaki</th>\n",
       "      <td>8004</td>\n",
       "      <td>462446.43</td>\n",
       "      <td>722236.44</td>\n",
       "    </tr>\n",
       "    <tr>\n",
       "      <th>bronze</th>\n",
       "      <td>7872</td>\n",
       "      <td>505149.79</td>\n",
       "      <td>802337.05</td>\n",
       "    </tr>\n",
       "    <tr>\n",
       "      <th>metallic</th>\n",
       "      <td>5474</td>\n",
       "      <td>559318.76</td>\n",
       "      <td>890078.48</td>\n",
       "    </tr>\n",
       "    <tr>\n",
       "      <th>olive</th>\n",
       "      <td>9390</td>\n",
       "      <td>551451.18</td>\n",
       "      <td>890143.66</td>\n",
       "    </tr>\n",
       "    <tr>\n",
       "      <th>purple</th>\n",
       "      <td>13383</td>\n",
       "      <td>765776.24</td>\n",
       "      <td>1209295.05</td>\n",
       "    </tr>\n",
       "    <tr>\n",
       "      <th>pewter</th>\n",
       "      <td>12848</td>\n",
       "      <td>761187.55</td>\n",
       "      <td>1216961.06</td>\n",
       "    </tr>\n",
       "  </tbody>\n",
       "</table>\n",
       "</div>"
      ],
      "text/plain": [
       "          quantity    prices       cost\n",
       "color                                  \n",
       "unknown       2160  96829.48  156715.63\n",
       "clear         2301 164237.18  256104.94\n",
       "mahogany      3835 204577.23  328054.59\n",
       "coral         5756 389151.85  620338.57\n",
       "khaki         8004 462446.43  722236.44\n",
       "bronze        7872 505149.79  802337.05\n",
       "metallic      5474 559318.76  890078.48\n",
       "olive         9390 551451.18  890143.66\n",
       "purple       13383 765776.24 1209295.05\n",
       "pewter       12848 761187.55 1216961.06"
      ]
     },
     "execution_count": 88,
     "metadata": {},
     "output_type": "execute_result"
    }
   ],
   "source": [
    "Shunique.groupby(by='color').sum().sort_values('cost', ascending=True)[:10]"
   ]
  },
  {
   "cell_type": "code",
   "execution_count": 87,
   "metadata": {},
   "outputs": [
    {
     "data": {
      "text/html": [
       "<div>\n",
       "<style scoped>\n",
       "    .dataframe tbody tr th:only-of-type {\n",
       "        vertical-align: middle;\n",
       "    }\n",
       "\n",
       "    .dataframe tbody tr th {\n",
       "        vertical-align: top;\n",
       "    }\n",
       "\n",
       "    .dataframe thead th {\n",
       "        text-align: right;\n",
       "    }\n",
       "</style>\n",
       "<table border=\"1\" class=\"dataframe\">\n",
       "  <thead>\n",
       "    <tr style=\"text-align: right;\">\n",
       "      <th></th>\n",
       "      <th>quantity</th>\n",
       "      <th>prices</th>\n",
       "      <th>cost</th>\n",
       "    </tr>\n",
       "    <tr>\n",
       "      <th>materials</th>\n",
       "      <th></th>\n",
       "      <th></th>\n",
       "      <th></th>\n",
       "    </tr>\n",
       "  </thead>\n",
       "  <tbody>\n",
       "    <tr>\n",
       "      <th>felt</th>\n",
       "      <td>179</td>\n",
       "      <td>1987.98</td>\n",
       "      <td>3488.71</td>\n",
       "    </tr>\n",
       "    <tr>\n",
       "      <th>satin</th>\n",
       "      <td>1357</td>\n",
       "      <td>36847.94</td>\n",
       "      <td>59431.02</td>\n",
       "    </tr>\n",
       "    <tr>\n",
       "      <th>latex</th>\n",
       "      <td>1876</td>\n",
       "      <td>57796.97</td>\n",
       "      <td>91771.44</td>\n",
       "    </tr>\n",
       "    <tr>\n",
       "      <th>cotton</th>\n",
       "      <td>2570</td>\n",
       "      <td>110651.50</td>\n",
       "      <td>174048.06</td>\n",
       "    </tr>\n",
       "    <tr>\n",
       "      <th>polyester</th>\n",
       "      <td>2494</td>\n",
       "      <td>115648.29</td>\n",
       "      <td>184445.42</td>\n",
       "    </tr>\n",
       "    <tr>\n",
       "      <th>mesh</th>\n",
       "      <td>2957</td>\n",
       "      <td>157528.77</td>\n",
       "      <td>252730.13</td>\n",
       "    </tr>\n",
       "    <tr>\n",
       "      <th>nylon</th>\n",
       "      <td>15857</td>\n",
       "      <td>1181677.15</td>\n",
       "      <td>1880305.39</td>\n",
       "    </tr>\n",
       "    <tr>\n",
       "      <th>wool</th>\n",
       "      <td>16509</td>\n",
       "      <td>1195124.36</td>\n",
       "      <td>1920694.23</td>\n",
       "    </tr>\n",
       "    <tr>\n",
       "      <th>foam</th>\n",
       "      <td>17463</td>\n",
       "      <td>1301683.12</td>\n",
       "      <td>2045465.94</td>\n",
       "    </tr>\n",
       "    <tr>\n",
       "      <th>nubuck</th>\n",
       "      <td>17029</td>\n",
       "      <td>1432544.31</td>\n",
       "      <td>2302519.03</td>\n",
       "    </tr>\n",
       "  </tbody>\n",
       "</table>\n",
       "</div>"
      ],
      "text/plain": [
       "           quantity     prices       cost\n",
       "materials                                \n",
       "felt            179    1987.98    3488.71\n",
       "satin          1357   36847.94   59431.02\n",
       "latex          1876   57796.97   91771.44\n",
       "cotton         2570  110651.50  174048.06\n",
       "polyester      2494  115648.29  184445.42\n",
       "mesh           2957  157528.77  252730.13\n",
       "nylon         15857 1181677.15 1880305.39\n",
       "wool          16509 1195124.36 1920694.23\n",
       "foam          17463 1301683.12 2045465.94\n",
       "nubuck        17029 1432544.31 2302519.03"
      ]
     },
     "execution_count": 87,
     "metadata": {},
     "output_type": "execute_result"
    }
   ],
   "source": [
    "Shunique.groupby(by='materials').sum().sort_values('cost', ascending=True)[:10]"
   ]
  },
  {
   "cell_type": "code",
   "execution_count": 89,
   "metadata": {},
   "outputs": [
    {
     "data": {
      "text/html": [
       "<div>\n",
       "<style scoped>\n",
       "    .dataframe tbody tr th:only-of-type {\n",
       "        vertical-align: middle;\n",
       "    }\n",
       "\n",
       "    .dataframe tbody tr th {\n",
       "        vertical-align: top;\n",
       "    }\n",
       "\n",
       "    .dataframe thead th {\n",
       "        text-align: right;\n",
       "    }\n",
       "</style>\n",
       "<table border=\"1\" class=\"dataframe\">\n",
       "  <thead>\n",
       "    <tr style=\"text-align: right;\">\n",
       "      <th></th>\n",
       "      <th>quantity</th>\n",
       "      <th>prices</th>\n",
       "      <th>cost</th>\n",
       "    </tr>\n",
       "    <tr>\n",
       "      <th>feature</th>\n",
       "      <th></th>\n",
       "      <th></th>\n",
       "      <th></th>\n",
       "    </tr>\n",
       "  </thead>\n",
       "  <tbody>\n",
       "    <tr>\n",
       "      <th>antimicrobial</th>\n",
       "      <td>48982</td>\n",
       "      <td>2480620.86</td>\n",
       "      <td>3963959.03</td>\n",
       "    </tr>\n",
       "    <tr>\n",
       "      <th>wide toe box</th>\n",
       "      <td>52522</td>\n",
       "      <td>2634345.81</td>\n",
       "      <td>4200706.95</td>\n",
       "    </tr>\n",
       "    <tr>\n",
       "      <th>fitness tracking</th>\n",
       "      <td>52450</td>\n",
       "      <td>2855715.83</td>\n",
       "      <td>4556395.21</td>\n",
       "    </tr>\n",
       "    <tr>\n",
       "      <th>sustainably certified</th>\n",
       "      <td>55601</td>\n",
       "      <td>2896533.83</td>\n",
       "      <td>4607046.67</td>\n",
       "    </tr>\n",
       "    <tr>\n",
       "      <th>puncture resistant</th>\n",
       "      <td>52453</td>\n",
       "      <td>2912993.81</td>\n",
       "      <td>4636841.88</td>\n",
       "    </tr>\n",
       "    <tr>\n",
       "      <th>lightweight</th>\n",
       "      <td>49546</td>\n",
       "      <td>2943801.43</td>\n",
       "      <td>4673061.01</td>\n",
       "    </tr>\n",
       "    <tr>\n",
       "      <th>handmade</th>\n",
       "      <td>54562</td>\n",
       "      <td>2999045.90</td>\n",
       "      <td>4828614.74</td>\n",
       "    </tr>\n",
       "    <tr>\n",
       "      <th>waterproof</th>\n",
       "      <td>49670</td>\n",
       "      <td>3041860.90</td>\n",
       "      <td>4890465.37</td>\n",
       "    </tr>\n",
       "    <tr>\n",
       "      <th>organic</th>\n",
       "      <td>50132</td>\n",
       "      <td>3097045.13</td>\n",
       "      <td>4937389.33</td>\n",
       "    </tr>\n",
       "    <tr>\n",
       "      <th>wearable tech</th>\n",
       "      <td>54209</td>\n",
       "      <td>3100595.27</td>\n",
       "      <td>4984569.79</td>\n",
       "    </tr>\n",
       "  </tbody>\n",
       "</table>\n",
       "</div>"
      ],
      "text/plain": [
       "                       quantity     prices       cost\n",
       "feature                                              \n",
       "antimicrobial             48982 2480620.86 3963959.03\n",
       "wide toe box              52522 2634345.81 4200706.95\n",
       "fitness tracking          52450 2855715.83 4556395.21\n",
       "sustainably certified     55601 2896533.83 4607046.67\n",
       "puncture resistant        52453 2912993.81 4636841.88\n",
       "lightweight               49546 2943801.43 4673061.01\n",
       "handmade                  54562 2999045.90 4828614.74\n",
       "waterproof                49670 3041860.90 4890465.37\n",
       "organic                   50132 3097045.13 4937389.33\n",
       "wearable tech             54209 3100595.27 4984569.79"
      ]
     },
     "execution_count": 89,
     "metadata": {},
     "output_type": "execute_result"
    }
   ],
   "source": [
    "Shunique.groupby(by='feature').sum().sort_values('cost', ascending=True)[:10]"
   ]
  },
  {
   "cell_type": "code",
   "execution_count": 90,
   "metadata": {},
   "outputs": [
    {
     "data": {
      "text/html": [
       "<div>\n",
       "<style scoped>\n",
       "    .dataframe tbody tr th:only-of-type {\n",
       "        vertical-align: middle;\n",
       "    }\n",
       "\n",
       "    .dataframe tbody tr th {\n",
       "        vertical-align: top;\n",
       "    }\n",
       "\n",
       "    .dataframe thead th {\n",
       "        text-align: right;\n",
       "    }\n",
       "</style>\n",
       "<table border=\"1\" class=\"dataframe\">\n",
       "  <thead>\n",
       "    <tr style=\"text-align: right;\">\n",
       "      <th></th>\n",
       "      <th>quantity</th>\n",
       "      <th>prices</th>\n",
       "      <th>cost</th>\n",
       "    </tr>\n",
       "    <tr>\n",
       "      <th>category</th>\n",
       "      <th></th>\n",
       "      <th></th>\n",
       "      <th></th>\n",
       "    </tr>\n",
       "  </thead>\n",
       "  <tbody>\n",
       "    <tr>\n",
       "      <th>boat shoes</th>\n",
       "      <td>3310</td>\n",
       "      <td>172850.67</td>\n",
       "      <td>266751.16</td>\n",
       "    </tr>\n",
       "    <tr>\n",
       "      <th>oxfords</th>\n",
       "      <td>17614</td>\n",
       "      <td>850253.65</td>\n",
       "      <td>1360919.95</td>\n",
       "    </tr>\n",
       "    <tr>\n",
       "      <th>slippers</th>\n",
       "      <td>16147</td>\n",
       "      <td>986294.12</td>\n",
       "      <td>1561629.71</td>\n",
       "    </tr>\n",
       "    <tr>\n",
       "      <th>clogs</th>\n",
       "      <td>31968</td>\n",
       "      <td>1837833.56</td>\n",
       "      <td>2940678.16</td>\n",
       "    </tr>\n",
       "    <tr>\n",
       "      <th>gym</th>\n",
       "      <td>69180</td>\n",
       "      <td>3900517.96</td>\n",
       "      <td>6182520.59</td>\n",
       "    </tr>\n",
       "    <tr>\n",
       "      <th>basketball</th>\n",
       "      <td>70669</td>\n",
       "      <td>3951035.07</td>\n",
       "      <td>6273672.75</td>\n",
       "    </tr>\n",
       "    <tr>\n",
       "      <th>soccer</th>\n",
       "      <td>70042</td>\n",
       "      <td>4038166.97</td>\n",
       "      <td>6466656.07</td>\n",
       "    </tr>\n",
       "    <tr>\n",
       "      <th>skateboarding</th>\n",
       "      <td>64455</td>\n",
       "      <td>4058865.04</td>\n",
       "      <td>6466783.97</td>\n",
       "    </tr>\n",
       "    <tr>\n",
       "      <th>loafers</th>\n",
       "      <td>73976</td>\n",
       "      <td>4212415.72</td>\n",
       "      <td>6708366.67</td>\n",
       "    </tr>\n",
       "    <tr>\n",
       "      <th>running</th>\n",
       "      <td>79726</td>\n",
       "      <td>4769967.04</td>\n",
       "      <td>7656352.48</td>\n",
       "    </tr>\n",
       "  </tbody>\n",
       "</table>\n",
       "</div>"
      ],
      "text/plain": [
       "               quantity     prices       cost\n",
       "category                                     \n",
       "boat shoes         3310  172850.67  266751.16\n",
       "oxfords           17614  850253.65 1360919.95\n",
       "slippers          16147  986294.12 1561629.71\n",
       "clogs             31968 1837833.56 2940678.16\n",
       "gym               69180 3900517.96 6182520.59\n",
       "basketball        70669 3951035.07 6273672.75\n",
       "soccer            70042 4038166.97 6466656.07\n",
       "skateboarding     64455 4058865.04 6466783.97\n",
       "loafers           73976 4212415.72 6708366.67\n",
       "running           79726 4769967.04 7656352.48"
      ]
     },
     "execution_count": 90,
     "metadata": {},
     "output_type": "execute_result"
    }
   ],
   "source": [
    "Shunique.groupby(by='category').sum().sort_values('cost', ascending=True)[:10]"
   ]
  },
  {
   "cell_type": "markdown",
   "metadata": {},
   "source": [
    "**Answer 10c:** In terms of other datasets, we would look to aquire data on regional employment information, income data and weather data.\n",
    "\n",
    "Regional employment information and income data, while similar, would provide a couple different view points. In areas with high or low unemployment, do Shunique's products do better or worse? Is there any correlation? Perhaps high unemployment drives lower shoe sells on high priced items, but are there impacts on lower priced SKUs? Similarly utilizing income data would allow Shunique to examine their most common consumer - Understanding their income levels and what products sell well in those areas would help research and development.\n",
    "\n",
    "While weather data may seem an odd data set to consider, it would be interesting to compare daily or average temperatures across large spans of time - Are there any connections between weather and shoe sales? If so should promotions be run during that period? Is there any link between region, weather, time of year and shoe purchases? Understanding these influences could again assist with research and development; but could also assist with understanding how much inventory to carry and other general forecasting processes. "
   ]
  },
  {
   "cell_type": "markdown",
   "metadata": {},
   "source": [
    "## Question 11 (Code Below)\n",
    "\n",
    "The sales team is asking for increased bonuses because they increased daily sales year-over-year. \n",
    "\n",
    "**(11)** Calculate the daily sales totals (cost) for the date ranges 8/1/2018-7/31/2019 and 8/1/2019-7/31/2020. Describe and compare the two distributions (center, variability, spread, and anomalies). Create a graphical display that makes this easy to understand."
   ]
  },
  {
   "cell_type": "code",
   "execution_count": 32,
   "metadata": {},
   "outputs": [],
   "source": [
    "Sales_Range_1 = Shunique[(Shunique['transactionDate'] >='8/1/2018') & (Shunique['transactionDate'] <= '7/31/2019')]\n",
    "\n",
    "Sales_Range_2 = Shunique[(Shunique['transactionDate'] >='8/1/2019') & (Shunique['transactionDate'] <= '7/31/2020')]\n",
    "\n",
    "First_Range = Sales_Range_1.set_index('transactionDate').groupby(pd.Grouper(freq='D')).sum()\n",
    "\n",
    "Second_Range = Sales_Range_2.set_index('transactionDate').groupby(pd.Grouper(freq='D')).sum()"
   ]
  },
  {
   "cell_type": "markdown",
   "metadata": {},
   "source": [
    "Summary statistics for sales by year for 8/1/2018-7/31/2019 (First Range) and 8/1/2019-7/31/2020 (Second Range):"
   ]
  },
  {
   "cell_type": "code",
   "execution_count": 33,
   "metadata": {},
   "outputs": [
    {
     "data": {
      "text/plain": [
       "count      364.00\n",
       "mean    218958.35\n",
       "std      14907.16\n",
       "min     184474.90\n",
       "25%     208845.96\n",
       "50%     218509.85\n",
       "75%     228999.31\n",
       "max     264349.60\n",
       "Name: cost, dtype: float64"
      ]
     },
     "execution_count": 33,
     "metadata": {},
     "output_type": "execute_result"
    }
   ],
   "source": [
    "First_Range['cost'].describe()"
   ]
  },
  {
   "cell_type": "code",
   "execution_count": 34,
   "metadata": {},
   "outputs": [
    {
     "data": {
      "text/plain": [
       "count      366.00\n",
       "mean    237762.99\n",
       "std      27057.03\n",
       "min     192098.67\n",
       "25%     219427.38\n",
       "50%     227949.06\n",
       "75%     253349.59\n",
       "max     311104.73\n",
       "Name: cost, dtype: float64"
      ]
     },
     "execution_count": 34,
     "metadata": {},
     "output_type": "execute_result"
    }
   ],
   "source": [
    "Second_Range['cost'].describe()"
   ]
  },
  {
   "cell_type": "code",
   "execution_count": 35,
   "metadata": {},
   "outputs": [
    {
     "name": "stderr",
     "output_type": "stream",
     "text": [
      "/Users/danielbachman/opt/anaconda3/lib/python3.8/site-packages/seaborn/distributions.py:2551: FutureWarning: `distplot` is a deprecated function and will be removed in a future version. Please adapt your code to use either `displot` (a figure-level function with similar flexibility) or `histplot` (an axes-level function for histograms).\n",
      "  warnings.warn(msg, FutureWarning)\n"
     ]
    },
    {
     "data": {
      "image/png": "[encoded data removed]",
      "text/plain": [
       "<Figure size 432x288 with 1 Axes>"
      ]
     },
     "metadata": {
      "image/png": {
       "height": 277,
       "width": 388
      },
      "needs_background": "light"
     },
     "output_type": "display_data"
    }
   ],
   "source": [
    "ax = sns.distplot(First_Range['cost'], label=\"8/1/2018 - 7/31/2019\", kde=False)\n",
    "\n",
    "sns.distplot(Second_Range['cost'], label=\"8/1/2019 - 7/31/2020\", kde=False)\n",
    "\n",
    "ax.set(xlabel='Sales ($)', ylabel='Count', title='Distribution of Daily Sales Totals')\n",
    "\n",
    "plt.legend()\n",
    "\n",
    "plt.show()"
   ]
  },
  {
   "cell_type": "markdown",
   "metadata": {},
   "source": [
    "**Answer 11:** For daily sales, there were 364 days of sales between 8/1/2018 - 7/31/2019 and 366 days of sales between 8/1/2019 - 7/31/2020. The mean value of daily total sales was \\\\$218,958.35 for the first range, and increased to \\\\$237,762.99 for the second range. The standard deviation of daily total sales was \\\\$14,907.16 for the first range and increased to \\\\$27,057.03 for the second range. Both years, the distribution of daily total sales was fairly symetric and bell shaped; although the second range is skewed to the right. This could be caused by lower levels of the data being lower overall compared to the rest of the data set. Based on the plot above, the second range of dates had more days of similar daily sales, while also generally having higher daily sales totals. In this instance, bonuses would be warranted."
   ]
  },
  {
   "cell_type": "markdown",
   "metadata": {},
   "source": [
    "## Question 12\n",
    "\n",
    "Looking at the summary, the CEO says the sales don't look that different. \n",
    "\n",
    "**(12)** Is the difference in sales statistically significant enough to justify increased bonuses? (Answer using inference, either a significance test or comparison of confidence intervals) "
   ]
  },
  {
   "cell_type": "markdown",
   "metadata": {},
   "source": [
    "**Answer 12 - Process One:**\n",
    "\n",
    "A t-test will be performed for the difference between the sample means for the first date range and the second date range, with a significance level $\\alpha$ = .05. \n",
    "\n",
    "Hypotheses:\n",
    "\n",
    "**H<sub>0</sub>**: $\\mu$<sub>Second Range</sub> - $\\mu$<sub>First Range</sub> = 0\n",
    "\n",
    "(There is no difference in mean daily total sales)\n",
    "\n",
    "**H<sub>a</sub>**: $\\mu$<sub>Second Range</sub> - $\\mu$<sub>First Range</sub> > 0\n",
    "\n",
    "(The mean daily total sales in the second time period were greater than in the first time period)"
   ]
  },
  {
   "cell_type": "code",
   "execution_count": 36,
   "metadata": {},
   "outputs": [
    {
     "data": {
      "text/plain": [
       "Ttest_indResult(statistic=11.638152319547563, pvalue=3.1466556982154746e-28)"
      ]
     },
     "execution_count": 36,
     "metadata": {},
     "output_type": "execute_result"
    }
   ],
   "source": [
    "stats.ttest_ind(Second_Range['cost'], First_Range['cost'], equal_var=False)"
   ]
  },
  {
   "cell_type": "markdown",
   "metadata": {},
   "source": [
    "**Answer 12 - Conclusion One:** Because the p-value 3e-28 is close to zero and less than our significance level .05, we have convincing evidence for the null hypothesis. The data supports the claim that the sales teams increased daily sales year-over-year."
   ]
  },
  {
   "cell_type": "markdown",
   "metadata": {},
   "source": [
    "**Answer 12 - Process Two:**"
   ]
  },
  {
   "cell_type": "code",
   "execution_count": 37,
   "metadata": {},
   "outputs": [
    {
     "name": "stdout",
     "output_type": "stream",
     "text": [
      "95% confidence interval for the first range of daily total sales: (217421.81478457278, 220494.88768795496)\n",
      "95% confidence interval for the second range of daily total sales: (234981.8063408506, 240544.179287565)\n"
     ]
    }
   ],
   "source": [
    "import statsmodels.stats.api as sms\n",
    "\n",
    "summary_first_range = sms.DescrStatsW(First_Range['cost'])\n",
    "print(f'95% confidence interval for the first range of daily total sales: {summary_first_range.tconfint_mean()}')\n",
    "\n",
    "summary_second_range = sms.DescrStatsW(Second_Range['cost'])\n",
    "print(f'95% confidence interval for the second range of daily total sales: {summary_second_range.tconfint_mean()}')"
   ]
  },
  {
   "cell_type": "markdown",
   "metadata": {},
   "source": [
    "**Answer 12 - Conclusion Two:** Because the 95% confidence intervals for mean daily sales total do not overlap, and the confidence interval for the second range of dates is higher; we have convincing evidence to support the sales teams claim that they increased daily sales year-over-year."
   ]
  },
  {
   "cell_type": "code",
   "execution_count": null,
   "metadata": {},
   "outputs": [],
   "source": []
  }
 ],
 "metadata": {
  "kernelspec": {
   "display_name": "Python 3 (ipykernel)",
   "language": "python",
   "name": "python3"
  },
  "language_info": {
   "codemirror_mode": {
    "name": "ipython",
    "version": 3
   },
   "file_extension": ".py",
   "mimetype": "text/x-python",
   "name": "python",
   "nbconvert_exporter": "python",
   "pygments_lexer": "ipython3",
   "version": "3.8.12"
  },
  "toc": {
   "base_numbering": 1,
   "nav_menu": {},
   "number_sections": true,
   "sideBar": true,
   "skip_h1_title": false,
   "title_cell": "Table of Contents",
   "title_sidebar": "Contents",
   "toc_cell": false,
   "toc_position": {},
   "toc_section_display": true,
   "toc_window_display": false
  }
 },
 "nbformat": 4,
 "nbformat_minor": 4
}
